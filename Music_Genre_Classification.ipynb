{
  "nbformat": 4,
  "nbformat_minor": 0,
  "metadata": {
    "colab": {
      "name": "Music_Genre_Classification.ipynb",
      "provenance": [],
      "collapsed_sections": [],
      "toc_visible": true
    },
    "kernelspec": {
      "display_name": "Python 3",
      "name": "python3"
    },
    "language_info": {
      "name": "python"
    }
  },
  "cells": [
    {
      "cell_type": "code",
      "metadata": {
        "id": "-BaYiJMCKqnj",
        "colab": {
          "base_uri": "https://localhost:8080/"
        },
        "outputId": "e7deb7fe-078e-4b3f-d846-075c27a78856"
      },
      "source": [
        "import json\n",
        "import os\n",
        "import math\n",
        "import librosa\n",
        "DATASET_PATH = \"/content/drive/MyDrive/dataset/Data/genres_original\"\n",
        "JSON_PATH = \"data_10.json\"\n",
        "SAMPLE_RATE = 22050\n",
        "TRACK_DURATION = 30  # measured in seconds\n",
        "SAMPLES_PER_TRACK = SAMPLE_RATE * TRACK_DURATION\n",
        "\n",
        "\n",
        "def save_mfcc(dataset_path, json_path, num_mfcc=13, n_fft=2048, hop_length=512, num_segments=5):\n",
        "    \"\"\"Extracts MFCCs from music dataset and saves them into a json file along with genre labels.\n",
        "        :param dataset_path (str): Path to dataset\n",
        "        :param json_path (str): Path to json file used to save MFCCs\n",
        "        :param num_mfcc (int): Number of coefficients to extract\n",
        "        :param n_fft (int): Interval we consider to apply FFT. Measured in # of samples\n",
        "        :param hop_length (int): Sliding window for FFT. Measured in # of samples\n",
        "        :param: num_segments (int): Number of segments we want to divide sample tracks into\n",
        "        :return:\n",
        "        \"\"\"\n",
        "\n",
        "    # dictionary to store mapping, labels, and MFCCs\n",
        "    data = {\n",
        "        \"mapping\": [],\n",
        "        \"labels\": [],\n",
        "        \"mfcc\": []\n",
        "    }\n",
        "\n",
        "    samples_per_segment = int(SAMPLES_PER_TRACK / num_segments)\n",
        "    num_mfcc_vectors_per_segment = math.ceil(samples_per_segment / hop_length)\n",
        "\n",
        "    # loop through all genre sub-folder\n",
        "    for i, (dirpath, dirnames, filenames) in enumerate(os.walk(dataset_path)):\n",
        "\n",
        "        # ensure we're processing a genre sub-folder level\n",
        "        if dirpath is not dataset_path:\n",
        "\n",
        "            # save genre label (i.e., sub-folder name) in the mapping\n",
        "            semantic_label = dirpath.split(\"/\")[-1]\n",
        "            data[\"mapping\"].append(semantic_label)\n",
        "            print(\"\\nProcessing: {}\".format(semantic_label))\n",
        "\n",
        "            # process all audio files in genre sub-dir\n",
        "            for f in filenames:\n",
        "\n",
        "                # load audio file\n",
        "                file_path = os.path.join(dirpath, f)\n",
        "                signal, sample_rate = librosa.load(file_path, sr=SAMPLE_RATE)\n",
        "\n",
        "                # process all segments of audio file\n",
        "                for d in range(num_segments):\n",
        "\n",
        "                    # calculate start and finish sample for current segment\n",
        "                    start = samples_per_segment * d\n",
        "                    finish = start + samples_per_segment\n",
        "\n",
        "                    # extract mfcc\n",
        "                    mfcc = librosa.feature.mfcc(signal[start:finish], sample_rate, n_mfcc=num_mfcc, n_fft=n_fft,\n",
        "                                                hop_length=hop_length)\n",
        "                    mfcc = mfcc.T\n",
        "\n",
        "                    # store only mfcc feature with expected number of vectors\n",
        "                    if len(mfcc) == num_mfcc_vectors_per_segment:\n",
        "                        data[\"mfcc\"].append(mfcc.tolist())\n",
        "                        data[\"labels\"].append(i - 1)\n",
        "                        print(\"{}, segment:{}\".format(file_path, d + 1))\n",
        "\n",
        "    # save MFCCs to json file\n",
        "    with open(json_path, \"w\") as fp:\n",
        "        json.dump(data, fp, indent=4)\n",
        "\n",
        "\n",
        "if __name__ == \"__main__\":\n",
        "    save_mfcc(DATASET_PATH, JSON_PATH, num_segments=10)"
      ],
      "execution_count": null,
      "outputs": [
        {
          "output_type": "stream",
          "name": "stdout",
          "text": [
            "\n",
            "Processing: pop\n",
            "/content/drive/MyDrive/dataset/Data/genres_original/pop/pop.00003.wav, segment:1\n",
            "/content/drive/MyDrive/dataset/Data/genres_original/pop/pop.00003.wav, segment:2\n",
            "/content/drive/MyDrive/dataset/Data/genres_original/pop/pop.00003.wav, segment:3\n",
            "/content/drive/MyDrive/dataset/Data/genres_original/pop/pop.00003.wav, segment:4\n",
            "/content/drive/MyDrive/dataset/Data/genres_original/pop/pop.00003.wav, segment:5\n",
            "/content/drive/MyDrive/dataset/Data/genres_original/pop/pop.00003.wav, segment:6\n",
            "/content/drive/MyDrive/dataset/Data/genres_original/pop/pop.00003.wav, segment:7\n",
            "/content/drive/MyDrive/dataset/Data/genres_original/pop/pop.00003.wav, segment:8\n",
            "/content/drive/MyDrive/dataset/Data/genres_original/pop/pop.00003.wav, segment:9\n",
            "/content/drive/MyDrive/dataset/Data/genres_original/pop/pop.00003.wav, segment:10\n",
            "/content/drive/MyDrive/dataset/Data/genres_original/pop/pop.00004.wav, segment:1\n",
            "/content/drive/MyDrive/dataset/Data/genres_original/pop/pop.00004.wav, segment:2\n",
            "/content/drive/MyDrive/dataset/Data/genres_original/pop/pop.00004.wav, segment:3\n",
            "/content/drive/MyDrive/dataset/Data/genres_original/pop/pop.00004.wav, segment:4\n",
            "/content/drive/MyDrive/dataset/Data/genres_original/pop/pop.00004.wav, segment:5\n",
            "/content/drive/MyDrive/dataset/Data/genres_original/pop/pop.00004.wav, segment:6\n",
            "/content/drive/MyDrive/dataset/Data/genres_original/pop/pop.00004.wav, segment:7\n",
            "/content/drive/MyDrive/dataset/Data/genres_original/pop/pop.00004.wav, segment:8\n",
            "/content/drive/MyDrive/dataset/Data/genres_original/pop/pop.00004.wav, segment:9\n",
            "/content/drive/MyDrive/dataset/Data/genres_original/pop/pop.00004.wav, segment:10\n",
            "/content/drive/MyDrive/dataset/Data/genres_original/pop/pop.00006.wav, segment:1\n",
            "/content/drive/MyDrive/dataset/Data/genres_original/pop/pop.00006.wav, segment:2\n",
            "/content/drive/MyDrive/dataset/Data/genres_original/pop/pop.00006.wav, segment:3\n",
            "/content/drive/MyDrive/dataset/Data/genres_original/pop/pop.00006.wav, segment:4\n",
            "/content/drive/MyDrive/dataset/Data/genres_original/pop/pop.00006.wav, segment:5\n",
            "/content/drive/MyDrive/dataset/Data/genres_original/pop/pop.00006.wav, segment:6\n",
            "/content/drive/MyDrive/dataset/Data/genres_original/pop/pop.00006.wav, segment:7\n",
            "/content/drive/MyDrive/dataset/Data/genres_original/pop/pop.00006.wav, segment:8\n",
            "/content/drive/MyDrive/dataset/Data/genres_original/pop/pop.00006.wav, segment:9\n",
            "/content/drive/MyDrive/dataset/Data/genres_original/pop/pop.00006.wav, segment:10\n",
            "/content/drive/MyDrive/dataset/Data/genres_original/pop/pop.00002.wav, segment:1\n",
            "/content/drive/MyDrive/dataset/Data/genres_original/pop/pop.00002.wav, segment:2\n",
            "/content/drive/MyDrive/dataset/Data/genres_original/pop/pop.00002.wav, segment:3\n",
            "/content/drive/MyDrive/dataset/Data/genres_original/pop/pop.00002.wav, segment:4\n",
            "/content/drive/MyDrive/dataset/Data/genres_original/pop/pop.00002.wav, segment:5\n",
            "/content/drive/MyDrive/dataset/Data/genres_original/pop/pop.00002.wav, segment:6\n",
            "/content/drive/MyDrive/dataset/Data/genres_original/pop/pop.00002.wav, segment:7\n",
            "/content/drive/MyDrive/dataset/Data/genres_original/pop/pop.00002.wav, segment:8\n",
            "/content/drive/MyDrive/dataset/Data/genres_original/pop/pop.00002.wav, segment:9\n",
            "/content/drive/MyDrive/dataset/Data/genres_original/pop/pop.00002.wav, segment:10\n",
            "/content/drive/MyDrive/dataset/Data/genres_original/pop/pop.00005.wav, segment:1\n",
            "/content/drive/MyDrive/dataset/Data/genres_original/pop/pop.00005.wav, segment:2\n",
            "/content/drive/MyDrive/dataset/Data/genres_original/pop/pop.00005.wav, segment:3\n",
            "/content/drive/MyDrive/dataset/Data/genres_original/pop/pop.00005.wav, segment:4\n",
            "/content/drive/MyDrive/dataset/Data/genres_original/pop/pop.00005.wav, segment:5\n",
            "/content/drive/MyDrive/dataset/Data/genres_original/pop/pop.00005.wav, segment:6\n",
            "/content/drive/MyDrive/dataset/Data/genres_original/pop/pop.00005.wav, segment:7\n",
            "/content/drive/MyDrive/dataset/Data/genres_original/pop/pop.00005.wav, segment:8\n",
            "/content/drive/MyDrive/dataset/Data/genres_original/pop/pop.00005.wav, segment:9\n",
            "/content/drive/MyDrive/dataset/Data/genres_original/pop/pop.00005.wav, segment:10\n",
            "/content/drive/MyDrive/dataset/Data/genres_original/pop/pop.00008.wav, segment:1\n",
            "/content/drive/MyDrive/dataset/Data/genres_original/pop/pop.00008.wav, segment:2\n",
            "/content/drive/MyDrive/dataset/Data/genres_original/pop/pop.00008.wav, segment:3\n",
            "/content/drive/MyDrive/dataset/Data/genres_original/pop/pop.00008.wav, segment:4\n",
            "/content/drive/MyDrive/dataset/Data/genres_original/pop/pop.00008.wav, segment:5\n",
            "/content/drive/MyDrive/dataset/Data/genres_original/pop/pop.00008.wav, segment:6\n",
            "/content/drive/MyDrive/dataset/Data/genres_original/pop/pop.00008.wav, segment:7\n",
            "/content/drive/MyDrive/dataset/Data/genres_original/pop/pop.00008.wav, segment:8\n",
            "/content/drive/MyDrive/dataset/Data/genres_original/pop/pop.00008.wav, segment:9\n",
            "/content/drive/MyDrive/dataset/Data/genres_original/pop/pop.00008.wav, segment:10\n",
            "/content/drive/MyDrive/dataset/Data/genres_original/pop/pop.00009.wav, segment:1\n",
            "/content/drive/MyDrive/dataset/Data/genres_original/pop/pop.00009.wav, segment:2\n",
            "/content/drive/MyDrive/dataset/Data/genres_original/pop/pop.00009.wav, segment:3\n",
            "/content/drive/MyDrive/dataset/Data/genres_original/pop/pop.00009.wav, segment:4\n",
            "/content/drive/MyDrive/dataset/Data/genres_original/pop/pop.00009.wav, segment:5\n",
            "/content/drive/MyDrive/dataset/Data/genres_original/pop/pop.00009.wav, segment:6\n",
            "/content/drive/MyDrive/dataset/Data/genres_original/pop/pop.00009.wav, segment:7\n",
            "/content/drive/MyDrive/dataset/Data/genres_original/pop/pop.00009.wav, segment:8\n",
            "/content/drive/MyDrive/dataset/Data/genres_original/pop/pop.00009.wav, segment:9\n",
            "/content/drive/MyDrive/dataset/Data/genres_original/pop/pop.00009.wav, segment:10\n",
            "/content/drive/MyDrive/dataset/Data/genres_original/pop/pop.00007.wav, segment:1\n",
            "/content/drive/MyDrive/dataset/Data/genres_original/pop/pop.00007.wav, segment:2\n",
            "/content/drive/MyDrive/dataset/Data/genres_original/pop/pop.00007.wav, segment:3\n",
            "/content/drive/MyDrive/dataset/Data/genres_original/pop/pop.00007.wav, segment:4\n",
            "/content/drive/MyDrive/dataset/Data/genres_original/pop/pop.00007.wav, segment:5\n",
            "/content/drive/MyDrive/dataset/Data/genres_original/pop/pop.00007.wav, segment:6\n",
            "/content/drive/MyDrive/dataset/Data/genres_original/pop/pop.00007.wav, segment:7\n",
            "/content/drive/MyDrive/dataset/Data/genres_original/pop/pop.00007.wav, segment:8\n",
            "/content/drive/MyDrive/dataset/Data/genres_original/pop/pop.00007.wav, segment:9\n",
            "/content/drive/MyDrive/dataset/Data/genres_original/pop/pop.00007.wav, segment:10\n",
            "/content/drive/MyDrive/dataset/Data/genres_original/pop/blues.00001.wav, segment:1\n",
            "/content/drive/MyDrive/dataset/Data/genres_original/pop/blues.00001.wav, segment:2\n",
            "/content/drive/MyDrive/dataset/Data/genres_original/pop/blues.00001.wav, segment:3\n",
            "/content/drive/MyDrive/dataset/Data/genres_original/pop/blues.00001.wav, segment:4\n",
            "/content/drive/MyDrive/dataset/Data/genres_original/pop/blues.00001.wav, segment:5\n",
            "/content/drive/MyDrive/dataset/Data/genres_original/pop/blues.00001.wav, segment:6\n",
            "/content/drive/MyDrive/dataset/Data/genres_original/pop/blues.00001.wav, segment:7\n",
            "/content/drive/MyDrive/dataset/Data/genres_original/pop/blues.00001.wav, segment:8\n",
            "/content/drive/MyDrive/dataset/Data/genres_original/pop/blues.00001.wav, segment:9\n",
            "/content/drive/MyDrive/dataset/Data/genres_original/pop/blues.00001.wav, segment:10\n",
            "/content/drive/MyDrive/dataset/Data/genres_original/pop/Blues.00000.wav, segment:1\n",
            "/content/drive/MyDrive/dataset/Data/genres_original/pop/Blues.00000.wav, segment:2\n",
            "/content/drive/MyDrive/dataset/Data/genres_original/pop/Blues.00000.wav, segment:3\n",
            "/content/drive/MyDrive/dataset/Data/genres_original/pop/Blues.00000.wav, segment:4\n",
            "/content/drive/MyDrive/dataset/Data/genres_original/pop/Blues.00000.wav, segment:5\n",
            "/content/drive/MyDrive/dataset/Data/genres_original/pop/Blues.00000.wav, segment:6\n",
            "/content/drive/MyDrive/dataset/Data/genres_original/pop/Blues.00000.wav, segment:7\n",
            "/content/drive/MyDrive/dataset/Data/genres_original/pop/Blues.00000.wav, segment:8\n",
            "/content/drive/MyDrive/dataset/Data/genres_original/pop/Blues.00000.wav, segment:9\n",
            "/content/drive/MyDrive/dataset/Data/genres_original/pop/Blues.00000.wav, segment:10\n",
            "\n",
            "Processing: .ipynb_checkpoints\n",
            "\n",
            "Processing: rock\n",
            "/content/drive/MyDrive/dataset/Data/genres_original/rock/rock.00006.wav, segment:1\n",
            "/content/drive/MyDrive/dataset/Data/genres_original/rock/rock.00006.wav, segment:2\n",
            "/content/drive/MyDrive/dataset/Data/genres_original/rock/rock.00006.wav, segment:3\n",
            "/content/drive/MyDrive/dataset/Data/genres_original/rock/rock.00006.wav, segment:4\n",
            "/content/drive/MyDrive/dataset/Data/genres_original/rock/rock.00006.wav, segment:5\n",
            "/content/drive/MyDrive/dataset/Data/genres_original/rock/rock.00006.wav, segment:6\n",
            "/content/drive/MyDrive/dataset/Data/genres_original/rock/rock.00006.wav, segment:7\n",
            "/content/drive/MyDrive/dataset/Data/genres_original/rock/rock.00006.wav, segment:8\n",
            "/content/drive/MyDrive/dataset/Data/genres_original/rock/rock.00006.wav, segment:9\n",
            "/content/drive/MyDrive/dataset/Data/genres_original/rock/rock.00006.wav, segment:10\n",
            "/content/drive/MyDrive/dataset/Data/genres_original/rock/rock.00008.wav, segment:1\n",
            "/content/drive/MyDrive/dataset/Data/genres_original/rock/rock.00008.wav, segment:2\n",
            "/content/drive/MyDrive/dataset/Data/genres_original/rock/rock.00008.wav, segment:3\n",
            "/content/drive/MyDrive/dataset/Data/genres_original/rock/rock.00008.wav, segment:4\n",
            "/content/drive/MyDrive/dataset/Data/genres_original/rock/rock.00008.wav, segment:5\n",
            "/content/drive/MyDrive/dataset/Data/genres_original/rock/rock.00008.wav, segment:6\n",
            "/content/drive/MyDrive/dataset/Data/genres_original/rock/rock.00008.wav, segment:7\n",
            "/content/drive/MyDrive/dataset/Data/genres_original/rock/rock.00008.wav, segment:8\n",
            "/content/drive/MyDrive/dataset/Data/genres_original/rock/rock.00008.wav, segment:9\n",
            "/content/drive/MyDrive/dataset/Data/genres_original/rock/rock.00008.wav, segment:10\n",
            "/content/drive/MyDrive/dataset/Data/genres_original/rock/rock.00003.wav, segment:1\n",
            "/content/drive/MyDrive/dataset/Data/genres_original/rock/rock.00003.wav, segment:2\n",
            "/content/drive/MyDrive/dataset/Data/genres_original/rock/rock.00003.wav, segment:3\n",
            "/content/drive/MyDrive/dataset/Data/genres_original/rock/rock.00003.wav, segment:4\n",
            "/content/drive/MyDrive/dataset/Data/genres_original/rock/rock.00003.wav, segment:5\n",
            "/content/drive/MyDrive/dataset/Data/genres_original/rock/rock.00003.wav, segment:6\n",
            "/content/drive/MyDrive/dataset/Data/genres_original/rock/rock.00003.wav, segment:7\n",
            "/content/drive/MyDrive/dataset/Data/genres_original/rock/rock.00003.wav, segment:8\n",
            "/content/drive/MyDrive/dataset/Data/genres_original/rock/rock.00003.wav, segment:9\n",
            "/content/drive/MyDrive/dataset/Data/genres_original/rock/rock.00003.wav, segment:10\n",
            "/content/drive/MyDrive/dataset/Data/genres_original/rock/rock.00005.wav, segment:1\n",
            "/content/drive/MyDrive/dataset/Data/genres_original/rock/rock.00005.wav, segment:2\n",
            "/content/drive/MyDrive/dataset/Data/genres_original/rock/rock.00005.wav, segment:3\n",
            "/content/drive/MyDrive/dataset/Data/genres_original/rock/rock.00005.wav, segment:4\n",
            "/content/drive/MyDrive/dataset/Data/genres_original/rock/rock.00005.wav, segment:5\n",
            "/content/drive/MyDrive/dataset/Data/genres_original/rock/rock.00005.wav, segment:6\n",
            "/content/drive/MyDrive/dataset/Data/genres_original/rock/rock.00005.wav, segment:7\n",
            "/content/drive/MyDrive/dataset/Data/genres_original/rock/rock.00005.wav, segment:8\n",
            "/content/drive/MyDrive/dataset/Data/genres_original/rock/rock.00005.wav, segment:9\n",
            "/content/drive/MyDrive/dataset/Data/genres_original/rock/rock.00005.wav, segment:10\n",
            "/content/drive/MyDrive/dataset/Data/genres_original/rock/rock.00001.wav, segment:1\n",
            "/content/drive/MyDrive/dataset/Data/genres_original/rock/rock.00001.wav, segment:2\n",
            "/content/drive/MyDrive/dataset/Data/genres_original/rock/rock.00001.wav, segment:3\n",
            "/content/drive/MyDrive/dataset/Data/genres_original/rock/rock.00001.wav, segment:4\n",
            "/content/drive/MyDrive/dataset/Data/genres_original/rock/rock.00001.wav, segment:5\n",
            "/content/drive/MyDrive/dataset/Data/genres_original/rock/rock.00001.wav, segment:6\n",
            "/content/drive/MyDrive/dataset/Data/genres_original/rock/rock.00001.wav, segment:7\n",
            "/content/drive/MyDrive/dataset/Data/genres_original/rock/rock.00001.wav, segment:8\n",
            "/content/drive/MyDrive/dataset/Data/genres_original/rock/rock.00001.wav, segment:9\n",
            "/content/drive/MyDrive/dataset/Data/genres_original/rock/rock.00001.wav, segment:10\n",
            "/content/drive/MyDrive/dataset/Data/genres_original/rock/rock.00000.wav, segment:1\n",
            "/content/drive/MyDrive/dataset/Data/genres_original/rock/rock.00000.wav, segment:2\n",
            "/content/drive/MyDrive/dataset/Data/genres_original/rock/rock.00000.wav, segment:3\n",
            "/content/drive/MyDrive/dataset/Data/genres_original/rock/rock.00000.wav, segment:4\n",
            "/content/drive/MyDrive/dataset/Data/genres_original/rock/rock.00000.wav, segment:5\n",
            "/content/drive/MyDrive/dataset/Data/genres_original/rock/rock.00000.wav, segment:6\n",
            "/content/drive/MyDrive/dataset/Data/genres_original/rock/rock.00000.wav, segment:7\n",
            "/content/drive/MyDrive/dataset/Data/genres_original/rock/rock.00000.wav, segment:8\n",
            "/content/drive/MyDrive/dataset/Data/genres_original/rock/rock.00000.wav, segment:9\n",
            "/content/drive/MyDrive/dataset/Data/genres_original/rock/rock.00000.wav, segment:10\n",
            "/content/drive/MyDrive/dataset/Data/genres_original/rock/rock.00002.wav, segment:1\n",
            "/content/drive/MyDrive/dataset/Data/genres_original/rock/rock.00002.wav, segment:2\n",
            "/content/drive/MyDrive/dataset/Data/genres_original/rock/rock.00002.wav, segment:3\n",
            "/content/drive/MyDrive/dataset/Data/genres_original/rock/rock.00002.wav, segment:4\n",
            "/content/drive/MyDrive/dataset/Data/genres_original/rock/rock.00002.wav, segment:5\n",
            "/content/drive/MyDrive/dataset/Data/genres_original/rock/rock.00002.wav, segment:6\n",
            "/content/drive/MyDrive/dataset/Data/genres_original/rock/rock.00002.wav, segment:7\n",
            "/content/drive/MyDrive/dataset/Data/genres_original/rock/rock.00002.wav, segment:8\n",
            "/content/drive/MyDrive/dataset/Data/genres_original/rock/rock.00002.wav, segment:9\n",
            "/content/drive/MyDrive/dataset/Data/genres_original/rock/rock.00002.wav, segment:10\n",
            "/content/drive/MyDrive/dataset/Data/genres_original/rock/rock.00004.wav, segment:1\n",
            "/content/drive/MyDrive/dataset/Data/genres_original/rock/rock.00004.wav, segment:2\n",
            "/content/drive/MyDrive/dataset/Data/genres_original/rock/rock.00004.wav, segment:3\n",
            "/content/drive/MyDrive/dataset/Data/genres_original/rock/rock.00004.wav, segment:4\n",
            "/content/drive/MyDrive/dataset/Data/genres_original/rock/rock.00004.wav, segment:5\n",
            "/content/drive/MyDrive/dataset/Data/genres_original/rock/rock.00004.wav, segment:6\n",
            "/content/drive/MyDrive/dataset/Data/genres_original/rock/rock.00004.wav, segment:7\n",
            "/content/drive/MyDrive/dataset/Data/genres_original/rock/rock.00004.wav, segment:8\n",
            "/content/drive/MyDrive/dataset/Data/genres_original/rock/rock.00004.wav, segment:9\n",
            "/content/drive/MyDrive/dataset/Data/genres_original/rock/rock.00004.wav, segment:10\n",
            "/content/drive/MyDrive/dataset/Data/genres_original/rock/rock.00007.wav, segment:1\n",
            "/content/drive/MyDrive/dataset/Data/genres_original/rock/rock.00007.wav, segment:2\n",
            "/content/drive/MyDrive/dataset/Data/genres_original/rock/rock.00007.wav, segment:3\n",
            "/content/drive/MyDrive/dataset/Data/genres_original/rock/rock.00007.wav, segment:4\n",
            "/content/drive/MyDrive/dataset/Data/genres_original/rock/rock.00007.wav, segment:5\n",
            "/content/drive/MyDrive/dataset/Data/genres_original/rock/rock.00007.wav, segment:6\n",
            "/content/drive/MyDrive/dataset/Data/genres_original/rock/rock.00007.wav, segment:7\n",
            "/content/drive/MyDrive/dataset/Data/genres_original/rock/rock.00007.wav, segment:8\n",
            "/content/drive/MyDrive/dataset/Data/genres_original/rock/rock.00007.wav, segment:9\n",
            "/content/drive/MyDrive/dataset/Data/genres_original/rock/rock.00007.wav, segment:10\n",
            "/content/drive/MyDrive/dataset/Data/genres_original/rock/rock.00009.wav, segment:1\n",
            "/content/drive/MyDrive/dataset/Data/genres_original/rock/rock.00009.wav, segment:2\n",
            "/content/drive/MyDrive/dataset/Data/genres_original/rock/rock.00009.wav, segment:3\n",
            "/content/drive/MyDrive/dataset/Data/genres_original/rock/rock.00009.wav, segment:4\n",
            "/content/drive/MyDrive/dataset/Data/genres_original/rock/rock.00009.wav, segment:5\n",
            "/content/drive/MyDrive/dataset/Data/genres_original/rock/rock.00009.wav, segment:6\n",
            "/content/drive/MyDrive/dataset/Data/genres_original/rock/rock.00009.wav, segment:7\n",
            "/content/drive/MyDrive/dataset/Data/genres_original/rock/rock.00009.wav, segment:8\n",
            "/content/drive/MyDrive/dataset/Data/genres_original/rock/rock.00009.wav, segment:9\n",
            "/content/drive/MyDrive/dataset/Data/genres_original/rock/rock.00009.wav, segment:10\n",
            "\n",
            "Processing: hiphop\n",
            "/content/drive/MyDrive/dataset/Data/genres_original/hiphop/hiphop.00001.wav, segment:1\n",
            "/content/drive/MyDrive/dataset/Data/genres_original/hiphop/hiphop.00001.wav, segment:2\n",
            "/content/drive/MyDrive/dataset/Data/genres_original/hiphop/hiphop.00001.wav, segment:3\n",
            "/content/drive/MyDrive/dataset/Data/genres_original/hiphop/hiphop.00001.wav, segment:4\n",
            "/content/drive/MyDrive/dataset/Data/genres_original/hiphop/hiphop.00001.wav, segment:5\n",
            "/content/drive/MyDrive/dataset/Data/genres_original/hiphop/hiphop.00001.wav, segment:6\n",
            "/content/drive/MyDrive/dataset/Data/genres_original/hiphop/hiphop.00001.wav, segment:7\n",
            "/content/drive/MyDrive/dataset/Data/genres_original/hiphop/hiphop.00001.wav, segment:8\n",
            "/content/drive/MyDrive/dataset/Data/genres_original/hiphop/hiphop.00001.wav, segment:9\n",
            "/content/drive/MyDrive/dataset/Data/genres_original/hiphop/hiphop.00001.wav, segment:10\n",
            "/content/drive/MyDrive/dataset/Data/genres_original/hiphop/hiphop.00002.wav, segment:1\n",
            "/content/drive/MyDrive/dataset/Data/genres_original/hiphop/hiphop.00002.wav, segment:2\n",
            "/content/drive/MyDrive/dataset/Data/genres_original/hiphop/hiphop.00002.wav, segment:3\n",
            "/content/drive/MyDrive/dataset/Data/genres_original/hiphop/hiphop.00002.wav, segment:4\n",
            "/content/drive/MyDrive/dataset/Data/genres_original/hiphop/hiphop.00002.wav, segment:5\n",
            "/content/drive/MyDrive/dataset/Data/genres_original/hiphop/hiphop.00002.wav, segment:6\n",
            "/content/drive/MyDrive/dataset/Data/genres_original/hiphop/hiphop.00002.wav, segment:7\n",
            "/content/drive/MyDrive/dataset/Data/genres_original/hiphop/hiphop.00002.wav, segment:8\n",
            "/content/drive/MyDrive/dataset/Data/genres_original/hiphop/hiphop.00002.wav, segment:9\n",
            "/content/drive/MyDrive/dataset/Data/genres_original/hiphop/hiphop.00002.wav, segment:10\n",
            "/content/drive/MyDrive/dataset/Data/genres_original/hiphop/hiphop.00009.wav, segment:1\n",
            "/content/drive/MyDrive/dataset/Data/genres_original/hiphop/hiphop.00009.wav, segment:2\n",
            "/content/drive/MyDrive/dataset/Data/genres_original/hiphop/hiphop.00009.wav, segment:3\n",
            "/content/drive/MyDrive/dataset/Data/genres_original/hiphop/hiphop.00009.wav, segment:4\n",
            "/content/drive/MyDrive/dataset/Data/genres_original/hiphop/hiphop.00009.wav, segment:5\n",
            "/content/drive/MyDrive/dataset/Data/genres_original/hiphop/hiphop.00009.wav, segment:6\n",
            "/content/drive/MyDrive/dataset/Data/genres_original/hiphop/hiphop.00009.wav, segment:7\n",
            "/content/drive/MyDrive/dataset/Data/genres_original/hiphop/hiphop.00009.wav, segment:8\n",
            "/content/drive/MyDrive/dataset/Data/genres_original/hiphop/hiphop.00009.wav, segment:9\n",
            "/content/drive/MyDrive/dataset/Data/genres_original/hiphop/hiphop.00009.wav, segment:10\n",
            "/content/drive/MyDrive/dataset/Data/genres_original/hiphop/hiphop.00007.wav, segment:1\n",
            "/content/drive/MyDrive/dataset/Data/genres_original/hiphop/hiphop.00007.wav, segment:2\n",
            "/content/drive/MyDrive/dataset/Data/genres_original/hiphop/hiphop.00007.wav, segment:3\n",
            "/content/drive/MyDrive/dataset/Data/genres_original/hiphop/hiphop.00007.wav, segment:4\n",
            "/content/drive/MyDrive/dataset/Data/genres_original/hiphop/hiphop.00007.wav, segment:5\n",
            "/content/drive/MyDrive/dataset/Data/genres_original/hiphop/hiphop.00007.wav, segment:6\n",
            "/content/drive/MyDrive/dataset/Data/genres_original/hiphop/hiphop.00007.wav, segment:7\n",
            "/content/drive/MyDrive/dataset/Data/genres_original/hiphop/hiphop.00007.wav, segment:8\n",
            "/content/drive/MyDrive/dataset/Data/genres_original/hiphop/hiphop.00007.wav, segment:9\n",
            "/content/drive/MyDrive/dataset/Data/genres_original/hiphop/hiphop.00007.wav, segment:10\n",
            "/content/drive/MyDrive/dataset/Data/genres_original/hiphop/hiphop.00004.wav, segment:1\n",
            "/content/drive/MyDrive/dataset/Data/genres_original/hiphop/hiphop.00004.wav, segment:2\n",
            "/content/drive/MyDrive/dataset/Data/genres_original/hiphop/hiphop.00004.wav, segment:3\n",
            "/content/drive/MyDrive/dataset/Data/genres_original/hiphop/hiphop.00004.wav, segment:4\n",
            "/content/drive/MyDrive/dataset/Data/genres_original/hiphop/hiphop.00004.wav, segment:5\n",
            "/content/drive/MyDrive/dataset/Data/genres_original/hiphop/hiphop.00004.wav, segment:6\n",
            "/content/drive/MyDrive/dataset/Data/genres_original/hiphop/hiphop.00004.wav, segment:7\n",
            "/content/drive/MyDrive/dataset/Data/genres_original/hiphop/hiphop.00004.wav, segment:8\n",
            "/content/drive/MyDrive/dataset/Data/genres_original/hiphop/hiphop.00004.wav, segment:9\n",
            "/content/drive/MyDrive/dataset/Data/genres_original/hiphop/hiphop.00004.wav, segment:10\n",
            "/content/drive/MyDrive/dataset/Data/genres_original/hiphop/hiphop.00000.wav, segment:1\n",
            "/content/drive/MyDrive/dataset/Data/genres_original/hiphop/hiphop.00000.wav, segment:2\n",
            "/content/drive/MyDrive/dataset/Data/genres_original/hiphop/hiphop.00000.wav, segment:3\n",
            "/content/drive/MyDrive/dataset/Data/genres_original/hiphop/hiphop.00000.wav, segment:4\n",
            "/content/drive/MyDrive/dataset/Data/genres_original/hiphop/hiphop.00000.wav, segment:5\n",
            "/content/drive/MyDrive/dataset/Data/genres_original/hiphop/hiphop.00000.wav, segment:6\n",
            "/content/drive/MyDrive/dataset/Data/genres_original/hiphop/hiphop.00000.wav, segment:7\n",
            "/content/drive/MyDrive/dataset/Data/genres_original/hiphop/hiphop.00000.wav, segment:8\n",
            "/content/drive/MyDrive/dataset/Data/genres_original/hiphop/hiphop.00000.wav, segment:9\n",
            "/content/drive/MyDrive/dataset/Data/genres_original/hiphop/hiphop.00000.wav, segment:10\n",
            "/content/drive/MyDrive/dataset/Data/genres_original/hiphop/hiphop.00005.wav, segment:1\n",
            "/content/drive/MyDrive/dataset/Data/genres_original/hiphop/hiphop.00005.wav, segment:2\n",
            "/content/drive/MyDrive/dataset/Data/genres_original/hiphop/hiphop.00005.wav, segment:3\n",
            "/content/drive/MyDrive/dataset/Data/genres_original/hiphop/hiphop.00005.wav, segment:4\n",
            "/content/drive/MyDrive/dataset/Data/genres_original/hiphop/hiphop.00005.wav, segment:5\n",
            "/content/drive/MyDrive/dataset/Data/genres_original/hiphop/hiphop.00005.wav, segment:6\n",
            "/content/drive/MyDrive/dataset/Data/genres_original/hiphop/hiphop.00005.wav, segment:7\n",
            "/content/drive/MyDrive/dataset/Data/genres_original/hiphop/hiphop.00005.wav, segment:8\n",
            "/content/drive/MyDrive/dataset/Data/genres_original/hiphop/hiphop.00005.wav, segment:9\n",
            "/content/drive/MyDrive/dataset/Data/genres_original/hiphop/hiphop.00005.wav, segment:10\n",
            "/content/drive/MyDrive/dataset/Data/genres_original/hiphop/hiphop.00006.wav, segment:1\n",
            "/content/drive/MyDrive/dataset/Data/genres_original/hiphop/hiphop.00006.wav, segment:2\n",
            "/content/drive/MyDrive/dataset/Data/genres_original/hiphop/hiphop.00006.wav, segment:3\n",
            "/content/drive/MyDrive/dataset/Data/genres_original/hiphop/hiphop.00006.wav, segment:4\n",
            "/content/drive/MyDrive/dataset/Data/genres_original/hiphop/hiphop.00006.wav, segment:5\n",
            "/content/drive/MyDrive/dataset/Data/genres_original/hiphop/hiphop.00006.wav, segment:6\n",
            "/content/drive/MyDrive/dataset/Data/genres_original/hiphop/hiphop.00006.wav, segment:7\n",
            "/content/drive/MyDrive/dataset/Data/genres_original/hiphop/hiphop.00006.wav, segment:8\n",
            "/content/drive/MyDrive/dataset/Data/genres_original/hiphop/hiphop.00006.wav, segment:9\n",
            "/content/drive/MyDrive/dataset/Data/genres_original/hiphop/hiphop.00006.wav, segment:10\n",
            "/content/drive/MyDrive/dataset/Data/genres_original/hiphop/hiphop.00003.wav, segment:1\n",
            "/content/drive/MyDrive/dataset/Data/genres_original/hiphop/hiphop.00003.wav, segment:2\n",
            "/content/drive/MyDrive/dataset/Data/genres_original/hiphop/hiphop.00003.wav, segment:3\n",
            "/content/drive/MyDrive/dataset/Data/genres_original/hiphop/hiphop.00003.wav, segment:4\n",
            "/content/drive/MyDrive/dataset/Data/genres_original/hiphop/hiphop.00003.wav, segment:5\n",
            "/content/drive/MyDrive/dataset/Data/genres_original/hiphop/hiphop.00003.wav, segment:6\n",
            "/content/drive/MyDrive/dataset/Data/genres_original/hiphop/hiphop.00003.wav, segment:7\n",
            "/content/drive/MyDrive/dataset/Data/genres_original/hiphop/hiphop.00003.wav, segment:8\n",
            "/content/drive/MyDrive/dataset/Data/genres_original/hiphop/hiphop.00003.wav, segment:9\n",
            "/content/drive/MyDrive/dataset/Data/genres_original/hiphop/hiphop.00003.wav, segment:10\n",
            "/content/drive/MyDrive/dataset/Data/genres_original/hiphop/hiphop.00008.wav, segment:1\n",
            "/content/drive/MyDrive/dataset/Data/genres_original/hiphop/hiphop.00008.wav, segment:2\n",
            "/content/drive/MyDrive/dataset/Data/genres_original/hiphop/hiphop.00008.wav, segment:3\n",
            "/content/drive/MyDrive/dataset/Data/genres_original/hiphop/hiphop.00008.wav, segment:4\n",
            "/content/drive/MyDrive/dataset/Data/genres_original/hiphop/hiphop.00008.wav, segment:5\n",
            "/content/drive/MyDrive/dataset/Data/genres_original/hiphop/hiphop.00008.wav, segment:6\n",
            "/content/drive/MyDrive/dataset/Data/genres_original/hiphop/hiphop.00008.wav, segment:7\n",
            "/content/drive/MyDrive/dataset/Data/genres_original/hiphop/hiphop.00008.wav, segment:8\n",
            "/content/drive/MyDrive/dataset/Data/genres_original/hiphop/hiphop.00008.wav, segment:9\n",
            "/content/drive/MyDrive/dataset/Data/genres_original/hiphop/hiphop.00008.wav, segment:10\n",
            "\n",
            "Processing: metal\n",
            "/content/drive/MyDrive/dataset/Data/genres_original/metal/metal.00005.wav, segment:1\n",
            "/content/drive/MyDrive/dataset/Data/genres_original/metal/metal.00005.wav, segment:2\n",
            "/content/drive/MyDrive/dataset/Data/genres_original/metal/metal.00005.wav, segment:3\n",
            "/content/drive/MyDrive/dataset/Data/genres_original/metal/metal.00005.wav, segment:4\n",
            "/content/drive/MyDrive/dataset/Data/genres_original/metal/metal.00005.wav, segment:5\n",
            "/content/drive/MyDrive/dataset/Data/genres_original/metal/metal.00005.wav, segment:6\n",
            "/content/drive/MyDrive/dataset/Data/genres_original/metal/metal.00005.wav, segment:7\n",
            "/content/drive/MyDrive/dataset/Data/genres_original/metal/metal.00005.wav, segment:8\n",
            "/content/drive/MyDrive/dataset/Data/genres_original/metal/metal.00005.wav, segment:9\n",
            "/content/drive/MyDrive/dataset/Data/genres_original/metal/metal.00005.wav, segment:10\n",
            "/content/drive/MyDrive/dataset/Data/genres_original/metal/metal.00001.wav, segment:1\n",
            "/content/drive/MyDrive/dataset/Data/genres_original/metal/metal.00001.wav, segment:2\n",
            "/content/drive/MyDrive/dataset/Data/genres_original/metal/metal.00001.wav, segment:3\n",
            "/content/drive/MyDrive/dataset/Data/genres_original/metal/metal.00001.wav, segment:4\n",
            "/content/drive/MyDrive/dataset/Data/genres_original/metal/metal.00001.wav, segment:5\n",
            "/content/drive/MyDrive/dataset/Data/genres_original/metal/metal.00001.wav, segment:6\n",
            "/content/drive/MyDrive/dataset/Data/genres_original/metal/metal.00001.wav, segment:7\n",
            "/content/drive/MyDrive/dataset/Data/genres_original/metal/metal.00001.wav, segment:8\n",
            "/content/drive/MyDrive/dataset/Data/genres_original/metal/metal.00001.wav, segment:9\n",
            "/content/drive/MyDrive/dataset/Data/genres_original/metal/metal.00001.wav, segment:10\n",
            "/content/drive/MyDrive/dataset/Data/genres_original/metal/metal.00006.wav, segment:1\n",
            "/content/drive/MyDrive/dataset/Data/genres_original/metal/metal.00006.wav, segment:2\n",
            "/content/drive/MyDrive/dataset/Data/genres_original/metal/metal.00006.wav, segment:3\n",
            "/content/drive/MyDrive/dataset/Data/genres_original/metal/metal.00006.wav, segment:4\n",
            "/content/drive/MyDrive/dataset/Data/genres_original/metal/metal.00006.wav, segment:5\n",
            "/content/drive/MyDrive/dataset/Data/genres_original/metal/metal.00006.wav, segment:6\n",
            "/content/drive/MyDrive/dataset/Data/genres_original/metal/metal.00006.wav, segment:7\n",
            "/content/drive/MyDrive/dataset/Data/genres_original/metal/metal.00006.wav, segment:8\n",
            "/content/drive/MyDrive/dataset/Data/genres_original/metal/metal.00006.wav, segment:9\n",
            "/content/drive/MyDrive/dataset/Data/genres_original/metal/metal.00006.wav, segment:10\n",
            "/content/drive/MyDrive/dataset/Data/genres_original/metal/metal.00004.wav, segment:1\n",
            "/content/drive/MyDrive/dataset/Data/genres_original/metal/metal.00004.wav, segment:2\n",
            "/content/drive/MyDrive/dataset/Data/genres_original/metal/metal.00004.wav, segment:3\n",
            "/content/drive/MyDrive/dataset/Data/genres_original/metal/metal.00004.wav, segment:4\n",
            "/content/drive/MyDrive/dataset/Data/genres_original/metal/metal.00004.wav, segment:5\n",
            "/content/drive/MyDrive/dataset/Data/genres_original/metal/metal.00004.wav, segment:6\n",
            "/content/drive/MyDrive/dataset/Data/genres_original/metal/metal.00004.wav, segment:7\n",
            "/content/drive/MyDrive/dataset/Data/genres_original/metal/metal.00004.wav, segment:8\n",
            "/content/drive/MyDrive/dataset/Data/genres_original/metal/metal.00004.wav, segment:9\n",
            "/content/drive/MyDrive/dataset/Data/genres_original/metal/metal.00004.wav, segment:10\n",
            "/content/drive/MyDrive/dataset/Data/genres_original/metal/metal.00007.wav, segment:1\n",
            "/content/drive/MyDrive/dataset/Data/genres_original/metal/metal.00007.wav, segment:2\n",
            "/content/drive/MyDrive/dataset/Data/genres_original/metal/metal.00007.wav, segment:3\n",
            "/content/drive/MyDrive/dataset/Data/genres_original/metal/metal.00007.wav, segment:4\n",
            "/content/drive/MyDrive/dataset/Data/genres_original/metal/metal.00007.wav, segment:5\n",
            "/content/drive/MyDrive/dataset/Data/genres_original/metal/metal.00007.wav, segment:6\n",
            "/content/drive/MyDrive/dataset/Data/genres_original/metal/metal.00007.wav, segment:7\n",
            "/content/drive/MyDrive/dataset/Data/genres_original/metal/metal.00007.wav, segment:8\n",
            "/content/drive/MyDrive/dataset/Data/genres_original/metal/metal.00007.wav, segment:9\n",
            "/content/drive/MyDrive/dataset/Data/genres_original/metal/metal.00007.wav, segment:10\n",
            "/content/drive/MyDrive/dataset/Data/genres_original/metal/metal.00003.wav, segment:1\n",
            "/content/drive/MyDrive/dataset/Data/genres_original/metal/metal.00003.wav, segment:2\n",
            "/content/drive/MyDrive/dataset/Data/genres_original/metal/metal.00003.wav, segment:3\n",
            "/content/drive/MyDrive/dataset/Data/genres_original/metal/metal.00003.wav, segment:4\n",
            "/content/drive/MyDrive/dataset/Data/genres_original/metal/metal.00003.wav, segment:5\n",
            "/content/drive/MyDrive/dataset/Data/genres_original/metal/metal.00003.wav, segment:6\n",
            "/content/drive/MyDrive/dataset/Data/genres_original/metal/metal.00003.wav, segment:7\n",
            "/content/drive/MyDrive/dataset/Data/genres_original/metal/metal.00003.wav, segment:8\n",
            "/content/drive/MyDrive/dataset/Data/genres_original/metal/metal.00003.wav, segment:9\n",
            "/content/drive/MyDrive/dataset/Data/genres_original/metal/metal.00003.wav, segment:10\n",
            "/content/drive/MyDrive/dataset/Data/genres_original/metal/metal.00009.wav, segment:1\n",
            "/content/drive/MyDrive/dataset/Data/genres_original/metal/metal.00009.wav, segment:2\n",
            "/content/drive/MyDrive/dataset/Data/genres_original/metal/metal.00009.wav, segment:3\n",
            "/content/drive/MyDrive/dataset/Data/genres_original/metal/metal.00009.wav, segment:4\n",
            "/content/drive/MyDrive/dataset/Data/genres_original/metal/metal.00009.wav, segment:5\n",
            "/content/drive/MyDrive/dataset/Data/genres_original/metal/metal.00009.wav, segment:6\n",
            "/content/drive/MyDrive/dataset/Data/genres_original/metal/metal.00009.wav, segment:7\n",
            "/content/drive/MyDrive/dataset/Data/genres_original/metal/metal.00009.wav, segment:8\n",
            "/content/drive/MyDrive/dataset/Data/genres_original/metal/metal.00009.wav, segment:9\n",
            "/content/drive/MyDrive/dataset/Data/genres_original/metal/metal.00009.wav, segment:10\n",
            "/content/drive/MyDrive/dataset/Data/genres_original/metal/metal.00000.wav, segment:1\n",
            "/content/drive/MyDrive/dataset/Data/genres_original/metal/metal.00000.wav, segment:2\n",
            "/content/drive/MyDrive/dataset/Data/genres_original/metal/metal.00000.wav, segment:3\n",
            "/content/drive/MyDrive/dataset/Data/genres_original/metal/metal.00000.wav, segment:4\n",
            "/content/drive/MyDrive/dataset/Data/genres_original/metal/metal.00000.wav, segment:5\n",
            "/content/drive/MyDrive/dataset/Data/genres_original/metal/metal.00000.wav, segment:6\n",
            "/content/drive/MyDrive/dataset/Data/genres_original/metal/metal.00000.wav, segment:7\n",
            "/content/drive/MyDrive/dataset/Data/genres_original/metal/metal.00000.wav, segment:8\n",
            "/content/drive/MyDrive/dataset/Data/genres_original/metal/metal.00000.wav, segment:9\n",
            "/content/drive/MyDrive/dataset/Data/genres_original/metal/metal.00000.wav, segment:10\n",
            "/content/drive/MyDrive/dataset/Data/genres_original/metal/metal.00008.wav, segment:1\n",
            "/content/drive/MyDrive/dataset/Data/genres_original/metal/metal.00008.wav, segment:2\n",
            "/content/drive/MyDrive/dataset/Data/genres_original/metal/metal.00008.wav, segment:3\n",
            "/content/drive/MyDrive/dataset/Data/genres_original/metal/metal.00008.wav, segment:4\n",
            "/content/drive/MyDrive/dataset/Data/genres_original/metal/metal.00008.wav, segment:5\n",
            "/content/drive/MyDrive/dataset/Data/genres_original/metal/metal.00008.wav, segment:6\n",
            "/content/drive/MyDrive/dataset/Data/genres_original/metal/metal.00008.wav, segment:7\n",
            "/content/drive/MyDrive/dataset/Data/genres_original/metal/metal.00008.wav, segment:8\n",
            "/content/drive/MyDrive/dataset/Data/genres_original/metal/metal.00008.wav, segment:9\n",
            "/content/drive/MyDrive/dataset/Data/genres_original/metal/metal.00008.wav, segment:10\n",
            "/content/drive/MyDrive/dataset/Data/genres_original/metal/metal.00002.wav, segment:1\n",
            "/content/drive/MyDrive/dataset/Data/genres_original/metal/metal.00002.wav, segment:2\n",
            "/content/drive/MyDrive/dataset/Data/genres_original/metal/metal.00002.wav, segment:3\n",
            "/content/drive/MyDrive/dataset/Data/genres_original/metal/metal.00002.wav, segment:4\n",
            "/content/drive/MyDrive/dataset/Data/genres_original/metal/metal.00002.wav, segment:5\n",
            "/content/drive/MyDrive/dataset/Data/genres_original/metal/metal.00002.wav, segment:6\n",
            "/content/drive/MyDrive/dataset/Data/genres_original/metal/metal.00002.wav, segment:7\n",
            "/content/drive/MyDrive/dataset/Data/genres_original/metal/metal.00002.wav, segment:8\n",
            "/content/drive/MyDrive/dataset/Data/genres_original/metal/metal.00002.wav, segment:9\n",
            "/content/drive/MyDrive/dataset/Data/genres_original/metal/metal.00002.wav, segment:10\n",
            "\n",
            "Processing: disco\n",
            "/content/drive/MyDrive/dataset/Data/genres_original/disco/disco.00001.wav, segment:1\n",
            "/content/drive/MyDrive/dataset/Data/genres_original/disco/disco.00001.wav, segment:2\n",
            "/content/drive/MyDrive/dataset/Data/genres_original/disco/disco.00001.wav, segment:3\n",
            "/content/drive/MyDrive/dataset/Data/genres_original/disco/disco.00001.wav, segment:4\n",
            "/content/drive/MyDrive/dataset/Data/genres_original/disco/disco.00001.wav, segment:5\n",
            "/content/drive/MyDrive/dataset/Data/genres_original/disco/disco.00001.wav, segment:6\n",
            "/content/drive/MyDrive/dataset/Data/genres_original/disco/disco.00001.wav, segment:7\n",
            "/content/drive/MyDrive/dataset/Data/genres_original/disco/disco.00001.wav, segment:8\n",
            "/content/drive/MyDrive/dataset/Data/genres_original/disco/disco.00001.wav, segment:9\n",
            "/content/drive/MyDrive/dataset/Data/genres_original/disco/disco.00001.wav, segment:10\n",
            "/content/drive/MyDrive/dataset/Data/genres_original/disco/disco.00002.wav, segment:1\n",
            "/content/drive/MyDrive/dataset/Data/genres_original/disco/disco.00002.wav, segment:2\n",
            "/content/drive/MyDrive/dataset/Data/genres_original/disco/disco.00002.wav, segment:3\n",
            "/content/drive/MyDrive/dataset/Data/genres_original/disco/disco.00002.wav, segment:4\n",
            "/content/drive/MyDrive/dataset/Data/genres_original/disco/disco.00002.wav, segment:5\n",
            "/content/drive/MyDrive/dataset/Data/genres_original/disco/disco.00002.wav, segment:6\n",
            "/content/drive/MyDrive/dataset/Data/genres_original/disco/disco.00002.wav, segment:7\n",
            "/content/drive/MyDrive/dataset/Data/genres_original/disco/disco.00002.wav, segment:8\n",
            "/content/drive/MyDrive/dataset/Data/genres_original/disco/disco.00002.wav, segment:9\n",
            "/content/drive/MyDrive/dataset/Data/genres_original/disco/disco.00002.wav, segment:10\n",
            "/content/drive/MyDrive/dataset/Data/genres_original/disco/disco.00003.wav, segment:1\n",
            "/content/drive/MyDrive/dataset/Data/genres_original/disco/disco.00003.wav, segment:2\n",
            "/content/drive/MyDrive/dataset/Data/genres_original/disco/disco.00003.wav, segment:3\n",
            "/content/drive/MyDrive/dataset/Data/genres_original/disco/disco.00003.wav, segment:4\n",
            "/content/drive/MyDrive/dataset/Data/genres_original/disco/disco.00003.wav, segment:5\n",
            "/content/drive/MyDrive/dataset/Data/genres_original/disco/disco.00003.wav, segment:6\n",
            "/content/drive/MyDrive/dataset/Data/genres_original/disco/disco.00003.wav, segment:7\n",
            "/content/drive/MyDrive/dataset/Data/genres_original/disco/disco.00003.wav, segment:8\n",
            "/content/drive/MyDrive/dataset/Data/genres_original/disco/disco.00003.wav, segment:9\n",
            "/content/drive/MyDrive/dataset/Data/genres_original/disco/disco.00003.wav, segment:10\n",
            "/content/drive/MyDrive/dataset/Data/genres_original/disco/disco.00004.wav, segment:1\n",
            "/content/drive/MyDrive/dataset/Data/genres_original/disco/disco.00004.wav, segment:2\n",
            "/content/drive/MyDrive/dataset/Data/genres_original/disco/disco.00004.wav, segment:3\n",
            "/content/drive/MyDrive/dataset/Data/genres_original/disco/disco.00004.wav, segment:4\n",
            "/content/drive/MyDrive/dataset/Data/genres_original/disco/disco.00004.wav, segment:5\n",
            "/content/drive/MyDrive/dataset/Data/genres_original/disco/disco.00004.wav, segment:6\n",
            "/content/drive/MyDrive/dataset/Data/genres_original/disco/disco.00004.wav, segment:7\n",
            "/content/drive/MyDrive/dataset/Data/genres_original/disco/disco.00004.wav, segment:8\n",
            "/content/drive/MyDrive/dataset/Data/genres_original/disco/disco.00004.wav, segment:9\n",
            "/content/drive/MyDrive/dataset/Data/genres_original/disco/disco.00004.wav, segment:10\n",
            "/content/drive/MyDrive/dataset/Data/genres_original/disco/disco.00000.wav, segment:1\n",
            "/content/drive/MyDrive/dataset/Data/genres_original/disco/disco.00000.wav, segment:2\n",
            "/content/drive/MyDrive/dataset/Data/genres_original/disco/disco.00000.wav, segment:3\n",
            "/content/drive/MyDrive/dataset/Data/genres_original/disco/disco.00000.wav, segment:4\n",
            "/content/drive/MyDrive/dataset/Data/genres_original/disco/disco.00000.wav, segment:5\n",
            "/content/drive/MyDrive/dataset/Data/genres_original/disco/disco.00000.wav, segment:6\n",
            "/content/drive/MyDrive/dataset/Data/genres_original/disco/disco.00000.wav, segment:7\n",
            "/content/drive/MyDrive/dataset/Data/genres_original/disco/disco.00000.wav, segment:8\n",
            "/content/drive/MyDrive/dataset/Data/genres_original/disco/disco.00000.wav, segment:9\n",
            "/content/drive/MyDrive/dataset/Data/genres_original/disco/disco.00000.wav, segment:10\n",
            "/content/drive/MyDrive/dataset/Data/genres_original/disco/disco.00007.wav, segment:1\n",
            "/content/drive/MyDrive/dataset/Data/genres_original/disco/disco.00007.wav, segment:2\n",
            "/content/drive/MyDrive/dataset/Data/genres_original/disco/disco.00007.wav, segment:3\n",
            "/content/drive/MyDrive/dataset/Data/genres_original/disco/disco.00007.wav, segment:4\n",
            "/content/drive/MyDrive/dataset/Data/genres_original/disco/disco.00007.wav, segment:5\n",
            "/content/drive/MyDrive/dataset/Data/genres_original/disco/disco.00007.wav, segment:6\n",
            "/content/drive/MyDrive/dataset/Data/genres_original/disco/disco.00007.wav, segment:7\n",
            "/content/drive/MyDrive/dataset/Data/genres_original/disco/disco.00007.wav, segment:8\n",
            "/content/drive/MyDrive/dataset/Data/genres_original/disco/disco.00007.wav, segment:9\n",
            "/content/drive/MyDrive/dataset/Data/genres_original/disco/disco.00007.wav, segment:10\n",
            "/content/drive/MyDrive/dataset/Data/genres_original/disco/disco.00009.wav, segment:1\n",
            "/content/drive/MyDrive/dataset/Data/genres_original/disco/disco.00009.wav, segment:2\n",
            "/content/drive/MyDrive/dataset/Data/genres_original/disco/disco.00009.wav, segment:3\n",
            "/content/drive/MyDrive/dataset/Data/genres_original/disco/disco.00009.wav, segment:4\n",
            "/content/drive/MyDrive/dataset/Data/genres_original/disco/disco.00009.wav, segment:5\n",
            "/content/drive/MyDrive/dataset/Data/genres_original/disco/disco.00009.wav, segment:6\n",
            "/content/drive/MyDrive/dataset/Data/genres_original/disco/disco.00009.wav, segment:7\n",
            "/content/drive/MyDrive/dataset/Data/genres_original/disco/disco.00009.wav, segment:8\n",
            "/content/drive/MyDrive/dataset/Data/genres_original/disco/disco.00009.wav, segment:9\n",
            "/content/drive/MyDrive/dataset/Data/genres_original/disco/disco.00009.wav, segment:10\n",
            "/content/drive/MyDrive/dataset/Data/genres_original/disco/disco.00006.wav, segment:1\n",
            "/content/drive/MyDrive/dataset/Data/genres_original/disco/disco.00006.wav, segment:2\n",
            "/content/drive/MyDrive/dataset/Data/genres_original/disco/disco.00006.wav, segment:3\n",
            "/content/drive/MyDrive/dataset/Data/genres_original/disco/disco.00006.wav, segment:4\n",
            "/content/drive/MyDrive/dataset/Data/genres_original/disco/disco.00006.wav, segment:5\n",
            "/content/drive/MyDrive/dataset/Data/genres_original/disco/disco.00006.wav, segment:6\n",
            "/content/drive/MyDrive/dataset/Data/genres_original/disco/disco.00006.wav, segment:7\n",
            "/content/drive/MyDrive/dataset/Data/genres_original/disco/disco.00006.wav, segment:8\n",
            "/content/drive/MyDrive/dataset/Data/genres_original/disco/disco.00006.wav, segment:9\n",
            "/content/drive/MyDrive/dataset/Data/genres_original/disco/disco.00006.wav, segment:10\n",
            "/content/drive/MyDrive/dataset/Data/genres_original/disco/disco.00008.wav, segment:1\n",
            "/content/drive/MyDrive/dataset/Data/genres_original/disco/disco.00008.wav, segment:2\n",
            "/content/drive/MyDrive/dataset/Data/genres_original/disco/disco.00008.wav, segment:3\n",
            "/content/drive/MyDrive/dataset/Data/genres_original/disco/disco.00008.wav, segment:4\n",
            "/content/drive/MyDrive/dataset/Data/genres_original/disco/disco.00008.wav, segment:5\n",
            "/content/drive/MyDrive/dataset/Data/genres_original/disco/disco.00008.wav, segment:6\n",
            "/content/drive/MyDrive/dataset/Data/genres_original/disco/disco.00008.wav, segment:7\n",
            "/content/drive/MyDrive/dataset/Data/genres_original/disco/disco.00008.wav, segment:8\n",
            "/content/drive/MyDrive/dataset/Data/genres_original/disco/disco.00008.wav, segment:9\n",
            "/content/drive/MyDrive/dataset/Data/genres_original/disco/disco.00008.wav, segment:10\n",
            "/content/drive/MyDrive/dataset/Data/genres_original/disco/disco.00005.wav, segment:1\n",
            "/content/drive/MyDrive/dataset/Data/genres_original/disco/disco.00005.wav, segment:2\n",
            "/content/drive/MyDrive/dataset/Data/genres_original/disco/disco.00005.wav, segment:3\n",
            "/content/drive/MyDrive/dataset/Data/genres_original/disco/disco.00005.wav, segment:4\n",
            "/content/drive/MyDrive/dataset/Data/genres_original/disco/disco.00005.wav, segment:5\n",
            "/content/drive/MyDrive/dataset/Data/genres_original/disco/disco.00005.wav, segment:6\n",
            "/content/drive/MyDrive/dataset/Data/genres_original/disco/disco.00005.wav, segment:7\n",
            "/content/drive/MyDrive/dataset/Data/genres_original/disco/disco.00005.wav, segment:8\n",
            "/content/drive/MyDrive/dataset/Data/genres_original/disco/disco.00005.wav, segment:9\n",
            "/content/drive/MyDrive/dataset/Data/genres_original/disco/disco.00005.wav, segment:10\n",
            "\n",
            "Processing: blues\n",
            "/content/drive/MyDrive/dataset/Data/genres_original/blues/blues.00002.wav, segment:1\n",
            "/content/drive/MyDrive/dataset/Data/genres_original/blues/blues.00002.wav, segment:2\n",
            "/content/drive/MyDrive/dataset/Data/genres_original/blues/blues.00002.wav, segment:3\n",
            "/content/drive/MyDrive/dataset/Data/genres_original/blues/blues.00002.wav, segment:4\n",
            "/content/drive/MyDrive/dataset/Data/genres_original/blues/blues.00002.wav, segment:5\n",
            "/content/drive/MyDrive/dataset/Data/genres_original/blues/blues.00002.wav, segment:6\n",
            "/content/drive/MyDrive/dataset/Data/genres_original/blues/blues.00002.wav, segment:7\n",
            "/content/drive/MyDrive/dataset/Data/genres_original/blues/blues.00002.wav, segment:8\n",
            "/content/drive/MyDrive/dataset/Data/genres_original/blues/blues.00002.wav, segment:9\n",
            "/content/drive/MyDrive/dataset/Data/genres_original/blues/blues.00002.wav, segment:10\n",
            "/content/drive/MyDrive/dataset/Data/genres_original/blues/blues.00000.wav, segment:1\n",
            "/content/drive/MyDrive/dataset/Data/genres_original/blues/blues.00000.wav, segment:2\n",
            "/content/drive/MyDrive/dataset/Data/genres_original/blues/blues.00000.wav, segment:3\n",
            "/content/drive/MyDrive/dataset/Data/genres_original/blues/blues.00000.wav, segment:4\n",
            "/content/drive/MyDrive/dataset/Data/genres_original/blues/blues.00000.wav, segment:5\n",
            "/content/drive/MyDrive/dataset/Data/genres_original/blues/blues.00000.wav, segment:6\n",
            "/content/drive/MyDrive/dataset/Data/genres_original/blues/blues.00000.wav, segment:7\n",
            "/content/drive/MyDrive/dataset/Data/genres_original/blues/blues.00000.wav, segment:8\n",
            "/content/drive/MyDrive/dataset/Data/genres_original/blues/blues.00000.wav, segment:9\n",
            "/content/drive/MyDrive/dataset/Data/genres_original/blues/blues.00000.wav, segment:10\n",
            "/content/drive/MyDrive/dataset/Data/genres_original/blues/blues.00005.wav, segment:1\n",
            "/content/drive/MyDrive/dataset/Data/genres_original/blues/blues.00005.wav, segment:2\n",
            "/content/drive/MyDrive/dataset/Data/genres_original/blues/blues.00005.wav, segment:3\n",
            "/content/drive/MyDrive/dataset/Data/genres_original/blues/blues.00005.wav, segment:4\n",
            "/content/drive/MyDrive/dataset/Data/genres_original/blues/blues.00005.wav, segment:5\n",
            "/content/drive/MyDrive/dataset/Data/genres_original/blues/blues.00005.wav, segment:6\n",
            "/content/drive/MyDrive/dataset/Data/genres_original/blues/blues.00005.wav, segment:7\n",
            "/content/drive/MyDrive/dataset/Data/genres_original/blues/blues.00005.wav, segment:8\n",
            "/content/drive/MyDrive/dataset/Data/genres_original/blues/blues.00005.wav, segment:9\n",
            "/content/drive/MyDrive/dataset/Data/genres_original/blues/blues.00005.wav, segment:10\n",
            "/content/drive/MyDrive/dataset/Data/genres_original/blues/blues.00006.wav, segment:1\n",
            "/content/drive/MyDrive/dataset/Data/genres_original/blues/blues.00006.wav, segment:2\n",
            "/content/drive/MyDrive/dataset/Data/genres_original/blues/blues.00006.wav, segment:3\n",
            "/content/drive/MyDrive/dataset/Data/genres_original/blues/blues.00006.wav, segment:4\n",
            "/content/drive/MyDrive/dataset/Data/genres_original/blues/blues.00006.wav, segment:5\n",
            "/content/drive/MyDrive/dataset/Data/genres_original/blues/blues.00006.wav, segment:6\n",
            "/content/drive/MyDrive/dataset/Data/genres_original/blues/blues.00006.wav, segment:7\n",
            "/content/drive/MyDrive/dataset/Data/genres_original/blues/blues.00006.wav, segment:8\n",
            "/content/drive/MyDrive/dataset/Data/genres_original/blues/blues.00006.wav, segment:9\n",
            "/content/drive/MyDrive/dataset/Data/genres_original/blues/blues.00006.wav, segment:10\n",
            "/content/drive/MyDrive/dataset/Data/genres_original/blues/blues.00001.wav, segment:1\n",
            "/content/drive/MyDrive/dataset/Data/genres_original/blues/blues.00001.wav, segment:2\n",
            "/content/drive/MyDrive/dataset/Data/genres_original/blues/blues.00001.wav, segment:3\n",
            "/content/drive/MyDrive/dataset/Data/genres_original/blues/blues.00001.wav, segment:4\n",
            "/content/drive/MyDrive/dataset/Data/genres_original/blues/blues.00001.wav, segment:5\n",
            "/content/drive/MyDrive/dataset/Data/genres_original/blues/blues.00001.wav, segment:6\n",
            "/content/drive/MyDrive/dataset/Data/genres_original/blues/blues.00001.wav, segment:7\n",
            "/content/drive/MyDrive/dataset/Data/genres_original/blues/blues.00001.wav, segment:8\n",
            "/content/drive/MyDrive/dataset/Data/genres_original/blues/blues.00001.wav, segment:9\n",
            "/content/drive/MyDrive/dataset/Data/genres_original/blues/blues.00001.wav, segment:10\n",
            "/content/drive/MyDrive/dataset/Data/genres_original/blues/blues.00004.wav, segment:1\n",
            "/content/drive/MyDrive/dataset/Data/genres_original/blues/blues.00004.wav, segment:2\n",
            "/content/drive/MyDrive/dataset/Data/genres_original/blues/blues.00004.wav, segment:3\n",
            "/content/drive/MyDrive/dataset/Data/genres_original/blues/blues.00004.wav, segment:4\n",
            "/content/drive/MyDrive/dataset/Data/genres_original/blues/blues.00004.wav, segment:5\n",
            "/content/drive/MyDrive/dataset/Data/genres_original/blues/blues.00004.wav, segment:6\n",
            "/content/drive/MyDrive/dataset/Data/genres_original/blues/blues.00004.wav, segment:7\n",
            "/content/drive/MyDrive/dataset/Data/genres_original/blues/blues.00004.wav, segment:8\n",
            "/content/drive/MyDrive/dataset/Data/genres_original/blues/blues.00004.wav, segment:9\n",
            "/content/drive/MyDrive/dataset/Data/genres_original/blues/blues.00004.wav, segment:10\n",
            "/content/drive/MyDrive/dataset/Data/genres_original/blues/blues.00003.wav, segment:1\n",
            "/content/drive/MyDrive/dataset/Data/genres_original/blues/blues.00003.wav, segment:2\n",
            "/content/drive/MyDrive/dataset/Data/genres_original/blues/blues.00003.wav, segment:3\n",
            "/content/drive/MyDrive/dataset/Data/genres_original/blues/blues.00003.wav, segment:4\n",
            "/content/drive/MyDrive/dataset/Data/genres_original/blues/blues.00003.wav, segment:5\n",
            "/content/drive/MyDrive/dataset/Data/genres_original/blues/blues.00003.wav, segment:6\n",
            "/content/drive/MyDrive/dataset/Data/genres_original/blues/blues.00003.wav, segment:7\n",
            "/content/drive/MyDrive/dataset/Data/genres_original/blues/blues.00003.wav, segment:8\n",
            "/content/drive/MyDrive/dataset/Data/genres_original/blues/blues.00003.wav, segment:9\n",
            "/content/drive/MyDrive/dataset/Data/genres_original/blues/blues.00003.wav, segment:10\n",
            "/content/drive/MyDrive/dataset/Data/genres_original/blues/blues.00007.wav, segment:1\n",
            "/content/drive/MyDrive/dataset/Data/genres_original/blues/blues.00007.wav, segment:2\n",
            "/content/drive/MyDrive/dataset/Data/genres_original/blues/blues.00007.wav, segment:3\n",
            "/content/drive/MyDrive/dataset/Data/genres_original/blues/blues.00007.wav, segment:4\n",
            "/content/drive/MyDrive/dataset/Data/genres_original/blues/blues.00007.wav, segment:5\n",
            "/content/drive/MyDrive/dataset/Data/genres_original/blues/blues.00007.wav, segment:6\n",
            "/content/drive/MyDrive/dataset/Data/genres_original/blues/blues.00007.wav, segment:7\n",
            "/content/drive/MyDrive/dataset/Data/genres_original/blues/blues.00007.wav, segment:8\n",
            "/content/drive/MyDrive/dataset/Data/genres_original/blues/blues.00007.wav, segment:9\n",
            "/content/drive/MyDrive/dataset/Data/genres_original/blues/blues.00007.wav, segment:10\n",
            "/content/drive/MyDrive/dataset/Data/genres_original/blues/blues.00008.wav, segment:1\n",
            "/content/drive/MyDrive/dataset/Data/genres_original/blues/blues.00008.wav, segment:2\n",
            "/content/drive/MyDrive/dataset/Data/genres_original/blues/blues.00008.wav, segment:3\n",
            "/content/drive/MyDrive/dataset/Data/genres_original/blues/blues.00008.wav, segment:4\n",
            "/content/drive/MyDrive/dataset/Data/genres_original/blues/blues.00008.wav, segment:5\n",
            "/content/drive/MyDrive/dataset/Data/genres_original/blues/blues.00008.wav, segment:6\n",
            "/content/drive/MyDrive/dataset/Data/genres_original/blues/blues.00008.wav, segment:7\n",
            "/content/drive/MyDrive/dataset/Data/genres_original/blues/blues.00008.wav, segment:8\n",
            "/content/drive/MyDrive/dataset/Data/genres_original/blues/blues.00008.wav, segment:9\n",
            "/content/drive/MyDrive/dataset/Data/genres_original/blues/blues.00008.wav, segment:10\n",
            "/content/drive/MyDrive/dataset/Data/genres_original/blues/blues.00009.wav, segment:1\n",
            "/content/drive/MyDrive/dataset/Data/genres_original/blues/blues.00009.wav, segment:2\n",
            "/content/drive/MyDrive/dataset/Data/genres_original/blues/blues.00009.wav, segment:3\n",
            "/content/drive/MyDrive/dataset/Data/genres_original/blues/blues.00009.wav, segment:4\n",
            "/content/drive/MyDrive/dataset/Data/genres_original/blues/blues.00009.wav, segment:5\n",
            "/content/drive/MyDrive/dataset/Data/genres_original/blues/blues.00009.wav, segment:6\n",
            "/content/drive/MyDrive/dataset/Data/genres_original/blues/blues.00009.wav, segment:7\n",
            "/content/drive/MyDrive/dataset/Data/genres_original/blues/blues.00009.wav, segment:8\n",
            "/content/drive/MyDrive/dataset/Data/genres_original/blues/blues.00009.wav, segment:9\n",
            "/content/drive/MyDrive/dataset/Data/genres_original/blues/blues.00009.wav, segment:10\n",
            "\n",
            "Processing: classical\n",
            "/content/drive/MyDrive/dataset/Data/genres_original/classical/classical.00003.wav, segment:1\n",
            "/content/drive/MyDrive/dataset/Data/genres_original/classical/classical.00003.wav, segment:2\n",
            "/content/drive/MyDrive/dataset/Data/genres_original/classical/classical.00003.wav, segment:3\n",
            "/content/drive/MyDrive/dataset/Data/genres_original/classical/classical.00003.wav, segment:4\n",
            "/content/drive/MyDrive/dataset/Data/genres_original/classical/classical.00003.wav, segment:5\n",
            "/content/drive/MyDrive/dataset/Data/genres_original/classical/classical.00003.wav, segment:6\n",
            "/content/drive/MyDrive/dataset/Data/genres_original/classical/classical.00003.wav, segment:7\n",
            "/content/drive/MyDrive/dataset/Data/genres_original/classical/classical.00003.wav, segment:8\n",
            "/content/drive/MyDrive/dataset/Data/genres_original/classical/classical.00003.wav, segment:9\n",
            "/content/drive/MyDrive/dataset/Data/genres_original/classical/classical.00003.wav, segment:10\n",
            "/content/drive/MyDrive/dataset/Data/genres_original/classical/classical.00002.wav, segment:1\n",
            "/content/drive/MyDrive/dataset/Data/genres_original/classical/classical.00002.wav, segment:2\n",
            "/content/drive/MyDrive/dataset/Data/genres_original/classical/classical.00002.wav, segment:3\n",
            "/content/drive/MyDrive/dataset/Data/genres_original/classical/classical.00002.wav, segment:4\n",
            "/content/drive/MyDrive/dataset/Data/genres_original/classical/classical.00002.wav, segment:5\n",
            "/content/drive/MyDrive/dataset/Data/genres_original/classical/classical.00002.wav, segment:6\n",
            "/content/drive/MyDrive/dataset/Data/genres_original/classical/classical.00002.wav, segment:7\n",
            "/content/drive/MyDrive/dataset/Data/genres_original/classical/classical.00002.wav, segment:8\n",
            "/content/drive/MyDrive/dataset/Data/genres_original/classical/classical.00002.wav, segment:9\n",
            "/content/drive/MyDrive/dataset/Data/genres_original/classical/classical.00002.wav, segment:10\n",
            "/content/drive/MyDrive/dataset/Data/genres_original/classical/classical.00005.wav, segment:1\n",
            "/content/drive/MyDrive/dataset/Data/genres_original/classical/classical.00005.wav, segment:2\n",
            "/content/drive/MyDrive/dataset/Data/genres_original/classical/classical.00005.wav, segment:3\n",
            "/content/drive/MyDrive/dataset/Data/genres_original/classical/classical.00005.wav, segment:4\n",
            "/content/drive/MyDrive/dataset/Data/genres_original/classical/classical.00005.wav, segment:5\n",
            "/content/drive/MyDrive/dataset/Data/genres_original/classical/classical.00005.wav, segment:6\n",
            "/content/drive/MyDrive/dataset/Data/genres_original/classical/classical.00005.wav, segment:7\n",
            "/content/drive/MyDrive/dataset/Data/genres_original/classical/classical.00005.wav, segment:8\n",
            "/content/drive/MyDrive/dataset/Data/genres_original/classical/classical.00005.wav, segment:9\n",
            "/content/drive/MyDrive/dataset/Data/genres_original/classical/classical.00005.wav, segment:10\n",
            "/content/drive/MyDrive/dataset/Data/genres_original/classical/classical.00004.wav, segment:1\n",
            "/content/drive/MyDrive/dataset/Data/genres_original/classical/classical.00004.wav, segment:2\n",
            "/content/drive/MyDrive/dataset/Data/genres_original/classical/classical.00004.wav, segment:3\n",
            "/content/drive/MyDrive/dataset/Data/genres_original/classical/classical.00004.wav, segment:4\n",
            "/content/drive/MyDrive/dataset/Data/genres_original/classical/classical.00004.wav, segment:5\n",
            "/content/drive/MyDrive/dataset/Data/genres_original/classical/classical.00004.wav, segment:6\n",
            "/content/drive/MyDrive/dataset/Data/genres_original/classical/classical.00004.wav, segment:7\n",
            "/content/drive/MyDrive/dataset/Data/genres_original/classical/classical.00004.wav, segment:8\n",
            "/content/drive/MyDrive/dataset/Data/genres_original/classical/classical.00004.wav, segment:9\n",
            "/content/drive/MyDrive/dataset/Data/genres_original/classical/classical.00004.wav, segment:10\n",
            "/content/drive/MyDrive/dataset/Data/genres_original/classical/classical.00000.wav, segment:1\n",
            "/content/drive/MyDrive/dataset/Data/genres_original/classical/classical.00000.wav, segment:2\n",
            "/content/drive/MyDrive/dataset/Data/genres_original/classical/classical.00000.wav, segment:3\n",
            "/content/drive/MyDrive/dataset/Data/genres_original/classical/classical.00000.wav, segment:4\n",
            "/content/drive/MyDrive/dataset/Data/genres_original/classical/classical.00000.wav, segment:5\n",
            "/content/drive/MyDrive/dataset/Data/genres_original/classical/classical.00000.wav, segment:6\n",
            "/content/drive/MyDrive/dataset/Data/genres_original/classical/classical.00000.wav, segment:7\n",
            "/content/drive/MyDrive/dataset/Data/genres_original/classical/classical.00000.wav, segment:8\n",
            "/content/drive/MyDrive/dataset/Data/genres_original/classical/classical.00000.wav, segment:9\n",
            "/content/drive/MyDrive/dataset/Data/genres_original/classical/classical.00000.wav, segment:10\n",
            "/content/drive/MyDrive/dataset/Data/genres_original/classical/classical.00001.wav, segment:1\n",
            "/content/drive/MyDrive/dataset/Data/genres_original/classical/classical.00001.wav, segment:2\n",
            "/content/drive/MyDrive/dataset/Data/genres_original/classical/classical.00001.wav, segment:3\n",
            "/content/drive/MyDrive/dataset/Data/genres_original/classical/classical.00001.wav, segment:4\n",
            "/content/drive/MyDrive/dataset/Data/genres_original/classical/classical.00001.wav, segment:5\n",
            "/content/drive/MyDrive/dataset/Data/genres_original/classical/classical.00001.wav, segment:6\n",
            "/content/drive/MyDrive/dataset/Data/genres_original/classical/classical.00001.wav, segment:7\n",
            "/content/drive/MyDrive/dataset/Data/genres_original/classical/classical.00001.wav, segment:8\n",
            "/content/drive/MyDrive/dataset/Data/genres_original/classical/classical.00001.wav, segment:9\n",
            "/content/drive/MyDrive/dataset/Data/genres_original/classical/classical.00001.wav, segment:10\n",
            "/content/drive/MyDrive/dataset/Data/genres_original/classical/classical.00009.wav, segment:1\n",
            "/content/drive/MyDrive/dataset/Data/genres_original/classical/classical.00009.wav, segment:2\n",
            "/content/drive/MyDrive/dataset/Data/genres_original/classical/classical.00009.wav, segment:3\n",
            "/content/drive/MyDrive/dataset/Data/genres_original/classical/classical.00009.wav, segment:4\n",
            "/content/drive/MyDrive/dataset/Data/genres_original/classical/classical.00009.wav, segment:5\n",
            "/content/drive/MyDrive/dataset/Data/genres_original/classical/classical.00009.wav, segment:6\n",
            "/content/drive/MyDrive/dataset/Data/genres_original/classical/classical.00009.wav, segment:7\n",
            "/content/drive/MyDrive/dataset/Data/genres_original/classical/classical.00009.wav, segment:8\n",
            "/content/drive/MyDrive/dataset/Data/genres_original/classical/classical.00009.wav, segment:9\n",
            "/content/drive/MyDrive/dataset/Data/genres_original/classical/classical.00009.wav, segment:10\n",
            "/content/drive/MyDrive/dataset/Data/genres_original/classical/classical.00007.wav, segment:1\n",
            "/content/drive/MyDrive/dataset/Data/genres_original/classical/classical.00007.wav, segment:2\n",
            "/content/drive/MyDrive/dataset/Data/genres_original/classical/classical.00007.wav, segment:3\n",
            "/content/drive/MyDrive/dataset/Data/genres_original/classical/classical.00007.wav, segment:4\n",
            "/content/drive/MyDrive/dataset/Data/genres_original/classical/classical.00007.wav, segment:5\n",
            "/content/drive/MyDrive/dataset/Data/genres_original/classical/classical.00007.wav, segment:6\n",
            "/content/drive/MyDrive/dataset/Data/genres_original/classical/classical.00007.wav, segment:7\n",
            "/content/drive/MyDrive/dataset/Data/genres_original/classical/classical.00007.wav, segment:8\n",
            "/content/drive/MyDrive/dataset/Data/genres_original/classical/classical.00007.wav, segment:9\n",
            "/content/drive/MyDrive/dataset/Data/genres_original/classical/classical.00007.wav, segment:10\n",
            "/content/drive/MyDrive/dataset/Data/genres_original/classical/classical.00006.wav, segment:1\n",
            "/content/drive/MyDrive/dataset/Data/genres_original/classical/classical.00006.wav, segment:2\n",
            "/content/drive/MyDrive/dataset/Data/genres_original/classical/classical.00006.wav, segment:3\n",
            "/content/drive/MyDrive/dataset/Data/genres_original/classical/classical.00006.wav, segment:4\n",
            "/content/drive/MyDrive/dataset/Data/genres_original/classical/classical.00006.wav, segment:5\n",
            "/content/drive/MyDrive/dataset/Data/genres_original/classical/classical.00006.wav, segment:6\n",
            "/content/drive/MyDrive/dataset/Data/genres_original/classical/classical.00006.wav, segment:7\n",
            "/content/drive/MyDrive/dataset/Data/genres_original/classical/classical.00006.wav, segment:8\n",
            "/content/drive/MyDrive/dataset/Data/genres_original/classical/classical.00006.wav, segment:9\n",
            "/content/drive/MyDrive/dataset/Data/genres_original/classical/classical.00006.wav, segment:10\n",
            "/content/drive/MyDrive/dataset/Data/genres_original/classical/classical.00008.wav, segment:1\n",
            "/content/drive/MyDrive/dataset/Data/genres_original/classical/classical.00008.wav, segment:2\n",
            "/content/drive/MyDrive/dataset/Data/genres_original/classical/classical.00008.wav, segment:3\n",
            "/content/drive/MyDrive/dataset/Data/genres_original/classical/classical.00008.wav, segment:4\n",
            "/content/drive/MyDrive/dataset/Data/genres_original/classical/classical.00008.wav, segment:5\n",
            "/content/drive/MyDrive/dataset/Data/genres_original/classical/classical.00008.wav, segment:6\n",
            "/content/drive/MyDrive/dataset/Data/genres_original/classical/classical.00008.wav, segment:7\n",
            "/content/drive/MyDrive/dataset/Data/genres_original/classical/classical.00008.wav, segment:8\n",
            "/content/drive/MyDrive/dataset/Data/genres_original/classical/classical.00008.wav, segment:9\n",
            "/content/drive/MyDrive/dataset/Data/genres_original/classical/classical.00008.wav, segment:10\n",
            "\n",
            "Processing: reggae\n",
            "/content/drive/MyDrive/dataset/Data/genres_original/reggae/reggae.00001.wav, segment:1\n",
            "/content/drive/MyDrive/dataset/Data/genres_original/reggae/reggae.00001.wav, segment:2\n",
            "/content/drive/MyDrive/dataset/Data/genres_original/reggae/reggae.00001.wav, segment:3\n",
            "/content/drive/MyDrive/dataset/Data/genres_original/reggae/reggae.00001.wav, segment:4\n",
            "/content/drive/MyDrive/dataset/Data/genres_original/reggae/reggae.00001.wav, segment:5\n",
            "/content/drive/MyDrive/dataset/Data/genres_original/reggae/reggae.00001.wav, segment:6\n",
            "/content/drive/MyDrive/dataset/Data/genres_original/reggae/reggae.00001.wav, segment:7\n",
            "/content/drive/MyDrive/dataset/Data/genres_original/reggae/reggae.00001.wav, segment:8\n",
            "/content/drive/MyDrive/dataset/Data/genres_original/reggae/reggae.00001.wav, segment:9\n",
            "/content/drive/MyDrive/dataset/Data/genres_original/reggae/reggae.00001.wav, segment:10\n",
            "/content/drive/MyDrive/dataset/Data/genres_original/reggae/reggae.00002.wav, segment:1\n",
            "/content/drive/MyDrive/dataset/Data/genres_original/reggae/reggae.00002.wav, segment:2\n",
            "/content/drive/MyDrive/dataset/Data/genres_original/reggae/reggae.00002.wav, segment:3\n",
            "/content/drive/MyDrive/dataset/Data/genres_original/reggae/reggae.00002.wav, segment:4\n",
            "/content/drive/MyDrive/dataset/Data/genres_original/reggae/reggae.00002.wav, segment:5\n",
            "/content/drive/MyDrive/dataset/Data/genres_original/reggae/reggae.00002.wav, segment:6\n",
            "/content/drive/MyDrive/dataset/Data/genres_original/reggae/reggae.00002.wav, segment:7\n",
            "/content/drive/MyDrive/dataset/Data/genres_original/reggae/reggae.00002.wav, segment:8\n",
            "/content/drive/MyDrive/dataset/Data/genres_original/reggae/reggae.00002.wav, segment:9\n",
            "/content/drive/MyDrive/dataset/Data/genres_original/reggae/reggae.00002.wav, segment:10\n",
            "/content/drive/MyDrive/dataset/Data/genres_original/reggae/reggae.00000.wav, segment:1\n",
            "/content/drive/MyDrive/dataset/Data/genres_original/reggae/reggae.00000.wav, segment:2\n",
            "/content/drive/MyDrive/dataset/Data/genres_original/reggae/reggae.00000.wav, segment:3\n",
            "/content/drive/MyDrive/dataset/Data/genres_original/reggae/reggae.00000.wav, segment:4\n",
            "/content/drive/MyDrive/dataset/Data/genres_original/reggae/reggae.00000.wav, segment:5\n",
            "/content/drive/MyDrive/dataset/Data/genres_original/reggae/reggae.00000.wav, segment:6\n",
            "/content/drive/MyDrive/dataset/Data/genres_original/reggae/reggae.00000.wav, segment:7\n",
            "/content/drive/MyDrive/dataset/Data/genres_original/reggae/reggae.00000.wav, segment:8\n",
            "/content/drive/MyDrive/dataset/Data/genres_original/reggae/reggae.00000.wav, segment:9\n",
            "/content/drive/MyDrive/dataset/Data/genres_original/reggae/reggae.00000.wav, segment:10\n",
            "/content/drive/MyDrive/dataset/Data/genres_original/reggae/reggae.00003.wav, segment:1\n",
            "/content/drive/MyDrive/dataset/Data/genres_original/reggae/reggae.00003.wav, segment:2\n",
            "/content/drive/MyDrive/dataset/Data/genres_original/reggae/reggae.00003.wav, segment:3\n",
            "/content/drive/MyDrive/dataset/Data/genres_original/reggae/reggae.00003.wav, segment:4\n",
            "/content/drive/MyDrive/dataset/Data/genres_original/reggae/reggae.00003.wav, segment:5\n",
            "/content/drive/MyDrive/dataset/Data/genres_original/reggae/reggae.00003.wav, segment:6\n",
            "/content/drive/MyDrive/dataset/Data/genres_original/reggae/reggae.00003.wav, segment:7\n",
            "/content/drive/MyDrive/dataset/Data/genres_original/reggae/reggae.00003.wav, segment:8\n",
            "/content/drive/MyDrive/dataset/Data/genres_original/reggae/reggae.00003.wav, segment:9\n",
            "/content/drive/MyDrive/dataset/Data/genres_original/reggae/reggae.00003.wav, segment:10\n",
            "/content/drive/MyDrive/dataset/Data/genres_original/reggae/reggae.00005.wav, segment:1\n",
            "/content/drive/MyDrive/dataset/Data/genres_original/reggae/reggae.00005.wav, segment:2\n",
            "/content/drive/MyDrive/dataset/Data/genres_original/reggae/reggae.00005.wav, segment:3\n",
            "/content/drive/MyDrive/dataset/Data/genres_original/reggae/reggae.00005.wav, segment:4\n",
            "/content/drive/MyDrive/dataset/Data/genres_original/reggae/reggae.00005.wav, segment:5\n",
            "/content/drive/MyDrive/dataset/Data/genres_original/reggae/reggae.00005.wav, segment:6\n",
            "/content/drive/MyDrive/dataset/Data/genres_original/reggae/reggae.00005.wav, segment:7\n",
            "/content/drive/MyDrive/dataset/Data/genres_original/reggae/reggae.00005.wav, segment:8\n",
            "/content/drive/MyDrive/dataset/Data/genres_original/reggae/reggae.00005.wav, segment:9\n",
            "/content/drive/MyDrive/dataset/Data/genres_original/reggae/reggae.00005.wav, segment:10\n",
            "/content/drive/MyDrive/dataset/Data/genres_original/reggae/reggae.00006.wav, segment:1\n",
            "/content/drive/MyDrive/dataset/Data/genres_original/reggae/reggae.00006.wav, segment:2\n",
            "/content/drive/MyDrive/dataset/Data/genres_original/reggae/reggae.00006.wav, segment:3\n",
            "/content/drive/MyDrive/dataset/Data/genres_original/reggae/reggae.00006.wav, segment:4\n",
            "/content/drive/MyDrive/dataset/Data/genres_original/reggae/reggae.00006.wav, segment:5\n",
            "/content/drive/MyDrive/dataset/Data/genres_original/reggae/reggae.00006.wav, segment:6\n",
            "/content/drive/MyDrive/dataset/Data/genres_original/reggae/reggae.00006.wav, segment:7\n",
            "/content/drive/MyDrive/dataset/Data/genres_original/reggae/reggae.00006.wav, segment:8\n",
            "/content/drive/MyDrive/dataset/Data/genres_original/reggae/reggae.00006.wav, segment:9\n",
            "/content/drive/MyDrive/dataset/Data/genres_original/reggae/reggae.00006.wav, segment:10\n",
            "/content/drive/MyDrive/dataset/Data/genres_original/reggae/reggae.00007.wav, segment:1\n",
            "/content/drive/MyDrive/dataset/Data/genres_original/reggae/reggae.00007.wav, segment:2\n",
            "/content/drive/MyDrive/dataset/Data/genres_original/reggae/reggae.00007.wav, segment:3\n",
            "/content/drive/MyDrive/dataset/Data/genres_original/reggae/reggae.00007.wav, segment:4\n",
            "/content/drive/MyDrive/dataset/Data/genres_original/reggae/reggae.00007.wav, segment:5\n",
            "/content/drive/MyDrive/dataset/Data/genres_original/reggae/reggae.00007.wav, segment:6\n",
            "/content/drive/MyDrive/dataset/Data/genres_original/reggae/reggae.00007.wav, segment:7\n",
            "/content/drive/MyDrive/dataset/Data/genres_original/reggae/reggae.00007.wav, segment:8\n",
            "/content/drive/MyDrive/dataset/Data/genres_original/reggae/reggae.00007.wav, segment:9\n",
            "/content/drive/MyDrive/dataset/Data/genres_original/reggae/reggae.00007.wav, segment:10\n",
            "/content/drive/MyDrive/dataset/Data/genres_original/reggae/reggae.00004.wav, segment:1\n",
            "/content/drive/MyDrive/dataset/Data/genres_original/reggae/reggae.00004.wav, segment:2\n",
            "/content/drive/MyDrive/dataset/Data/genres_original/reggae/reggae.00004.wav, segment:3\n",
            "/content/drive/MyDrive/dataset/Data/genres_original/reggae/reggae.00004.wav, segment:4\n",
            "/content/drive/MyDrive/dataset/Data/genres_original/reggae/reggae.00004.wav, segment:5\n",
            "/content/drive/MyDrive/dataset/Data/genres_original/reggae/reggae.00004.wav, segment:6\n",
            "/content/drive/MyDrive/dataset/Data/genres_original/reggae/reggae.00004.wav, segment:7\n",
            "/content/drive/MyDrive/dataset/Data/genres_original/reggae/reggae.00004.wav, segment:8\n",
            "/content/drive/MyDrive/dataset/Data/genres_original/reggae/reggae.00004.wav, segment:9\n",
            "/content/drive/MyDrive/dataset/Data/genres_original/reggae/reggae.00004.wav, segment:10\n",
            "/content/drive/MyDrive/dataset/Data/genres_original/reggae/reggae.00009.wav, segment:1\n",
            "/content/drive/MyDrive/dataset/Data/genres_original/reggae/reggae.00009.wav, segment:2\n",
            "/content/drive/MyDrive/dataset/Data/genres_original/reggae/reggae.00009.wav, segment:3\n",
            "/content/drive/MyDrive/dataset/Data/genres_original/reggae/reggae.00009.wav, segment:4\n",
            "/content/drive/MyDrive/dataset/Data/genres_original/reggae/reggae.00009.wav, segment:5\n",
            "/content/drive/MyDrive/dataset/Data/genres_original/reggae/reggae.00009.wav, segment:6\n",
            "/content/drive/MyDrive/dataset/Data/genres_original/reggae/reggae.00009.wav, segment:7\n",
            "/content/drive/MyDrive/dataset/Data/genres_original/reggae/reggae.00009.wav, segment:8\n",
            "/content/drive/MyDrive/dataset/Data/genres_original/reggae/reggae.00009.wav, segment:9\n",
            "/content/drive/MyDrive/dataset/Data/genres_original/reggae/reggae.00009.wav, segment:10\n",
            "/content/drive/MyDrive/dataset/Data/genres_original/reggae/reggae.00008.wav, segment:1\n",
            "/content/drive/MyDrive/dataset/Data/genres_original/reggae/reggae.00008.wav, segment:2\n",
            "/content/drive/MyDrive/dataset/Data/genres_original/reggae/reggae.00008.wav, segment:3\n",
            "/content/drive/MyDrive/dataset/Data/genres_original/reggae/reggae.00008.wav, segment:4\n",
            "/content/drive/MyDrive/dataset/Data/genres_original/reggae/reggae.00008.wav, segment:5\n",
            "/content/drive/MyDrive/dataset/Data/genres_original/reggae/reggae.00008.wav, segment:6\n",
            "/content/drive/MyDrive/dataset/Data/genres_original/reggae/reggae.00008.wav, segment:7\n",
            "/content/drive/MyDrive/dataset/Data/genres_original/reggae/reggae.00008.wav, segment:8\n",
            "/content/drive/MyDrive/dataset/Data/genres_original/reggae/reggae.00008.wav, segment:9\n",
            "/content/drive/MyDrive/dataset/Data/genres_original/reggae/reggae.00008.wav, segment:10\n",
            "\n",
            "Processing: jazz\n",
            "/content/drive/MyDrive/dataset/Data/genres_original/jazz/jazz.00001.wav, segment:1\n",
            "/content/drive/MyDrive/dataset/Data/genres_original/jazz/jazz.00001.wav, segment:2\n",
            "/content/drive/MyDrive/dataset/Data/genres_original/jazz/jazz.00001.wav, segment:3\n",
            "/content/drive/MyDrive/dataset/Data/genres_original/jazz/jazz.00001.wav, segment:4\n",
            "/content/drive/MyDrive/dataset/Data/genres_original/jazz/jazz.00001.wav, segment:5\n",
            "/content/drive/MyDrive/dataset/Data/genres_original/jazz/jazz.00001.wav, segment:6\n",
            "/content/drive/MyDrive/dataset/Data/genres_original/jazz/jazz.00001.wav, segment:7\n",
            "/content/drive/MyDrive/dataset/Data/genres_original/jazz/jazz.00001.wav, segment:8\n",
            "/content/drive/MyDrive/dataset/Data/genres_original/jazz/jazz.00001.wav, segment:9\n",
            "/content/drive/MyDrive/dataset/Data/genres_original/jazz/jazz.00001.wav, segment:10\n",
            "/content/drive/MyDrive/dataset/Data/genres_original/jazz/jazz.00005.wav, segment:1\n",
            "/content/drive/MyDrive/dataset/Data/genres_original/jazz/jazz.00005.wav, segment:2\n",
            "/content/drive/MyDrive/dataset/Data/genres_original/jazz/jazz.00005.wav, segment:3\n",
            "/content/drive/MyDrive/dataset/Data/genres_original/jazz/jazz.00005.wav, segment:4\n",
            "/content/drive/MyDrive/dataset/Data/genres_original/jazz/jazz.00005.wav, segment:5\n",
            "/content/drive/MyDrive/dataset/Data/genres_original/jazz/jazz.00005.wav, segment:6\n",
            "/content/drive/MyDrive/dataset/Data/genres_original/jazz/jazz.00005.wav, segment:7\n",
            "/content/drive/MyDrive/dataset/Data/genres_original/jazz/jazz.00005.wav, segment:8\n",
            "/content/drive/MyDrive/dataset/Data/genres_original/jazz/jazz.00005.wav, segment:9\n",
            "/content/drive/MyDrive/dataset/Data/genres_original/jazz/jazz.00005.wav, segment:10\n",
            "/content/drive/MyDrive/dataset/Data/genres_original/jazz/jazz.00000.wav, segment:1\n",
            "/content/drive/MyDrive/dataset/Data/genres_original/jazz/jazz.00000.wav, segment:2\n",
            "/content/drive/MyDrive/dataset/Data/genres_original/jazz/jazz.00000.wav, segment:3\n",
            "/content/drive/MyDrive/dataset/Data/genres_original/jazz/jazz.00000.wav, segment:4\n",
            "/content/drive/MyDrive/dataset/Data/genres_original/jazz/jazz.00000.wav, segment:5\n",
            "/content/drive/MyDrive/dataset/Data/genres_original/jazz/jazz.00000.wav, segment:6\n",
            "/content/drive/MyDrive/dataset/Data/genres_original/jazz/jazz.00000.wav, segment:7\n",
            "/content/drive/MyDrive/dataset/Data/genres_original/jazz/jazz.00000.wav, segment:8\n",
            "/content/drive/MyDrive/dataset/Data/genres_original/jazz/jazz.00000.wav, segment:9\n",
            "/content/drive/MyDrive/dataset/Data/genres_original/jazz/jazz.00000.wav, segment:10\n",
            "/content/drive/MyDrive/dataset/Data/genres_original/jazz/jazz.00003.wav, segment:1\n",
            "/content/drive/MyDrive/dataset/Data/genres_original/jazz/jazz.00003.wav, segment:2\n",
            "/content/drive/MyDrive/dataset/Data/genres_original/jazz/jazz.00003.wav, segment:3\n",
            "/content/drive/MyDrive/dataset/Data/genres_original/jazz/jazz.00003.wav, segment:4\n",
            "/content/drive/MyDrive/dataset/Data/genres_original/jazz/jazz.00003.wav, segment:5\n",
            "/content/drive/MyDrive/dataset/Data/genres_original/jazz/jazz.00003.wav, segment:6\n",
            "/content/drive/MyDrive/dataset/Data/genres_original/jazz/jazz.00003.wav, segment:7\n",
            "/content/drive/MyDrive/dataset/Data/genres_original/jazz/jazz.00003.wav, segment:8\n",
            "/content/drive/MyDrive/dataset/Data/genres_original/jazz/jazz.00003.wav, segment:9\n",
            "/content/drive/MyDrive/dataset/Data/genres_original/jazz/jazz.00003.wav, segment:10\n",
            "/content/drive/MyDrive/dataset/Data/genres_original/jazz/jazz.00002.wav, segment:1\n",
            "/content/drive/MyDrive/dataset/Data/genres_original/jazz/jazz.00002.wav, segment:2\n",
            "/content/drive/MyDrive/dataset/Data/genres_original/jazz/jazz.00002.wav, segment:3\n",
            "/content/drive/MyDrive/dataset/Data/genres_original/jazz/jazz.00002.wav, segment:4\n",
            "/content/drive/MyDrive/dataset/Data/genres_original/jazz/jazz.00002.wav, segment:5\n",
            "/content/drive/MyDrive/dataset/Data/genres_original/jazz/jazz.00002.wav, segment:6\n",
            "/content/drive/MyDrive/dataset/Data/genres_original/jazz/jazz.00002.wav, segment:7\n",
            "/content/drive/MyDrive/dataset/Data/genres_original/jazz/jazz.00002.wav, segment:8\n",
            "/content/drive/MyDrive/dataset/Data/genres_original/jazz/jazz.00002.wav, segment:9\n",
            "/content/drive/MyDrive/dataset/Data/genres_original/jazz/jazz.00002.wav, segment:10\n",
            "/content/drive/MyDrive/dataset/Data/genres_original/jazz/jazz.00004.wav, segment:1\n",
            "/content/drive/MyDrive/dataset/Data/genres_original/jazz/jazz.00004.wav, segment:2\n",
            "/content/drive/MyDrive/dataset/Data/genres_original/jazz/jazz.00004.wav, segment:3\n",
            "/content/drive/MyDrive/dataset/Data/genres_original/jazz/jazz.00004.wav, segment:4\n",
            "/content/drive/MyDrive/dataset/Data/genres_original/jazz/jazz.00004.wav, segment:5\n",
            "/content/drive/MyDrive/dataset/Data/genres_original/jazz/jazz.00004.wav, segment:6\n",
            "/content/drive/MyDrive/dataset/Data/genres_original/jazz/jazz.00004.wav, segment:7\n",
            "/content/drive/MyDrive/dataset/Data/genres_original/jazz/jazz.00004.wav, segment:8\n",
            "/content/drive/MyDrive/dataset/Data/genres_original/jazz/jazz.00004.wav, segment:9\n",
            "/content/drive/MyDrive/dataset/Data/genres_original/jazz/jazz.00004.wav, segment:10\n",
            "/content/drive/MyDrive/dataset/Data/genres_original/jazz/jazz.00007.wav, segment:1\n",
            "/content/drive/MyDrive/dataset/Data/genres_original/jazz/jazz.00007.wav, segment:2\n",
            "/content/drive/MyDrive/dataset/Data/genres_original/jazz/jazz.00007.wav, segment:3\n",
            "/content/drive/MyDrive/dataset/Data/genres_original/jazz/jazz.00007.wav, segment:4\n",
            "/content/drive/MyDrive/dataset/Data/genres_original/jazz/jazz.00007.wav, segment:5\n",
            "/content/drive/MyDrive/dataset/Data/genres_original/jazz/jazz.00007.wav, segment:6\n",
            "/content/drive/MyDrive/dataset/Data/genres_original/jazz/jazz.00007.wav, segment:7\n",
            "/content/drive/MyDrive/dataset/Data/genres_original/jazz/jazz.00007.wav, segment:8\n",
            "/content/drive/MyDrive/dataset/Data/genres_original/jazz/jazz.00007.wav, segment:9\n",
            "/content/drive/MyDrive/dataset/Data/genres_original/jazz/jazz.00007.wav, segment:10\n",
            "/content/drive/MyDrive/dataset/Data/genres_original/jazz/jazz.00006.wav, segment:1\n",
            "/content/drive/MyDrive/dataset/Data/genres_original/jazz/jazz.00006.wav, segment:2\n",
            "/content/drive/MyDrive/dataset/Data/genres_original/jazz/jazz.00006.wav, segment:3\n",
            "/content/drive/MyDrive/dataset/Data/genres_original/jazz/jazz.00006.wav, segment:4\n",
            "/content/drive/MyDrive/dataset/Data/genres_original/jazz/jazz.00006.wav, segment:5\n",
            "/content/drive/MyDrive/dataset/Data/genres_original/jazz/jazz.00006.wav, segment:6\n",
            "/content/drive/MyDrive/dataset/Data/genres_original/jazz/jazz.00006.wav, segment:7\n",
            "/content/drive/MyDrive/dataset/Data/genres_original/jazz/jazz.00006.wav, segment:8\n",
            "/content/drive/MyDrive/dataset/Data/genres_original/jazz/jazz.00006.wav, segment:9\n",
            "/content/drive/MyDrive/dataset/Data/genres_original/jazz/jazz.00006.wav, segment:10\n",
            "/content/drive/MyDrive/dataset/Data/genres_original/jazz/jazz.00008.wav, segment:1\n",
            "/content/drive/MyDrive/dataset/Data/genres_original/jazz/jazz.00008.wav, segment:2\n",
            "/content/drive/MyDrive/dataset/Data/genres_original/jazz/jazz.00008.wav, segment:3\n",
            "/content/drive/MyDrive/dataset/Data/genres_original/jazz/jazz.00008.wav, segment:4\n",
            "/content/drive/MyDrive/dataset/Data/genres_original/jazz/jazz.00008.wav, segment:5\n",
            "/content/drive/MyDrive/dataset/Data/genres_original/jazz/jazz.00008.wav, segment:6\n",
            "/content/drive/MyDrive/dataset/Data/genres_original/jazz/jazz.00008.wav, segment:7\n",
            "/content/drive/MyDrive/dataset/Data/genres_original/jazz/jazz.00008.wav, segment:8\n",
            "/content/drive/MyDrive/dataset/Data/genres_original/jazz/jazz.00008.wav, segment:9\n",
            "/content/drive/MyDrive/dataset/Data/genres_original/jazz/jazz.00008.wav, segment:10\n",
            "/content/drive/MyDrive/dataset/Data/genres_original/jazz/jazz.00009.wav, segment:1\n",
            "/content/drive/MyDrive/dataset/Data/genres_original/jazz/jazz.00009.wav, segment:2\n",
            "/content/drive/MyDrive/dataset/Data/genres_original/jazz/jazz.00009.wav, segment:3\n",
            "/content/drive/MyDrive/dataset/Data/genres_original/jazz/jazz.00009.wav, segment:4\n",
            "/content/drive/MyDrive/dataset/Data/genres_original/jazz/jazz.00009.wav, segment:5\n",
            "/content/drive/MyDrive/dataset/Data/genres_original/jazz/jazz.00009.wav, segment:6\n",
            "/content/drive/MyDrive/dataset/Data/genres_original/jazz/jazz.00009.wav, segment:7\n",
            "/content/drive/MyDrive/dataset/Data/genres_original/jazz/jazz.00009.wav, segment:8\n",
            "/content/drive/MyDrive/dataset/Data/genres_original/jazz/jazz.00009.wav, segment:9\n",
            "/content/drive/MyDrive/dataset/Data/genres_original/jazz/jazz.00009.wav, segment:10\n",
            "\n",
            "Processing: country\n",
            "/content/drive/MyDrive/dataset/Data/genres_original/country/country.00000.wav, segment:1\n",
            "/content/drive/MyDrive/dataset/Data/genres_original/country/country.00000.wav, segment:2\n",
            "/content/drive/MyDrive/dataset/Data/genres_original/country/country.00000.wav, segment:3\n",
            "/content/drive/MyDrive/dataset/Data/genres_original/country/country.00000.wav, segment:4\n",
            "/content/drive/MyDrive/dataset/Data/genres_original/country/country.00000.wav, segment:5\n",
            "/content/drive/MyDrive/dataset/Data/genres_original/country/country.00000.wav, segment:6\n",
            "/content/drive/MyDrive/dataset/Data/genres_original/country/country.00000.wav, segment:7\n",
            "/content/drive/MyDrive/dataset/Data/genres_original/country/country.00000.wav, segment:8\n",
            "/content/drive/MyDrive/dataset/Data/genres_original/country/country.00000.wav, segment:9\n",
            "/content/drive/MyDrive/dataset/Data/genres_original/country/country.00000.wav, segment:10\n",
            "/content/drive/MyDrive/dataset/Data/genres_original/country/country.00001.wav, segment:1\n",
            "/content/drive/MyDrive/dataset/Data/genres_original/country/country.00001.wav, segment:2\n",
            "/content/drive/MyDrive/dataset/Data/genres_original/country/country.00001.wav, segment:3\n",
            "/content/drive/MyDrive/dataset/Data/genres_original/country/country.00001.wav, segment:4\n",
            "/content/drive/MyDrive/dataset/Data/genres_original/country/country.00001.wav, segment:5\n",
            "/content/drive/MyDrive/dataset/Data/genres_original/country/country.00001.wav, segment:6\n",
            "/content/drive/MyDrive/dataset/Data/genres_original/country/country.00001.wav, segment:7\n",
            "/content/drive/MyDrive/dataset/Data/genres_original/country/country.00001.wav, segment:8\n",
            "/content/drive/MyDrive/dataset/Data/genres_original/country/country.00001.wav, segment:9\n",
            "/content/drive/MyDrive/dataset/Data/genres_original/country/country.00001.wav, segment:10\n",
            "/content/drive/MyDrive/dataset/Data/genres_original/country/country.00004.wav, segment:1\n",
            "/content/drive/MyDrive/dataset/Data/genres_original/country/country.00004.wav, segment:2\n",
            "/content/drive/MyDrive/dataset/Data/genres_original/country/country.00004.wav, segment:3\n",
            "/content/drive/MyDrive/dataset/Data/genres_original/country/country.00004.wav, segment:4\n",
            "/content/drive/MyDrive/dataset/Data/genres_original/country/country.00004.wav, segment:5\n",
            "/content/drive/MyDrive/dataset/Data/genres_original/country/country.00004.wav, segment:6\n",
            "/content/drive/MyDrive/dataset/Data/genres_original/country/country.00004.wav, segment:7\n",
            "/content/drive/MyDrive/dataset/Data/genres_original/country/country.00004.wav, segment:8\n",
            "/content/drive/MyDrive/dataset/Data/genres_original/country/country.00004.wav, segment:9\n",
            "/content/drive/MyDrive/dataset/Data/genres_original/country/country.00004.wav, segment:10\n",
            "/content/drive/MyDrive/dataset/Data/genres_original/country/country.00005.wav, segment:1\n",
            "/content/drive/MyDrive/dataset/Data/genres_original/country/country.00005.wav, segment:2\n",
            "/content/drive/MyDrive/dataset/Data/genres_original/country/country.00005.wav, segment:3\n",
            "/content/drive/MyDrive/dataset/Data/genres_original/country/country.00005.wav, segment:4\n",
            "/content/drive/MyDrive/dataset/Data/genres_original/country/country.00005.wav, segment:5\n",
            "/content/drive/MyDrive/dataset/Data/genres_original/country/country.00005.wav, segment:6\n",
            "/content/drive/MyDrive/dataset/Data/genres_original/country/country.00005.wav, segment:7\n",
            "/content/drive/MyDrive/dataset/Data/genres_original/country/country.00005.wav, segment:8\n",
            "/content/drive/MyDrive/dataset/Data/genres_original/country/country.00005.wav, segment:9\n",
            "/content/drive/MyDrive/dataset/Data/genres_original/country/country.00005.wav, segment:10\n",
            "/content/drive/MyDrive/dataset/Data/genres_original/country/country.00007.wav, segment:1\n",
            "/content/drive/MyDrive/dataset/Data/genres_original/country/country.00007.wav, segment:2\n",
            "/content/drive/MyDrive/dataset/Data/genres_original/country/country.00007.wav, segment:3\n",
            "/content/drive/MyDrive/dataset/Data/genres_original/country/country.00007.wav, segment:4\n",
            "/content/drive/MyDrive/dataset/Data/genres_original/country/country.00007.wav, segment:5\n",
            "/content/drive/MyDrive/dataset/Data/genres_original/country/country.00007.wav, segment:6\n",
            "/content/drive/MyDrive/dataset/Data/genres_original/country/country.00007.wav, segment:7\n",
            "/content/drive/MyDrive/dataset/Data/genres_original/country/country.00007.wav, segment:8\n",
            "/content/drive/MyDrive/dataset/Data/genres_original/country/country.00007.wav, segment:9\n",
            "/content/drive/MyDrive/dataset/Data/genres_original/country/country.00009.wav, segment:1\n",
            "/content/drive/MyDrive/dataset/Data/genres_original/country/country.00009.wav, segment:2\n",
            "/content/drive/MyDrive/dataset/Data/genres_original/country/country.00009.wav, segment:3\n",
            "/content/drive/MyDrive/dataset/Data/genres_original/country/country.00009.wav, segment:4\n",
            "/content/drive/MyDrive/dataset/Data/genres_original/country/country.00009.wav, segment:5\n",
            "/content/drive/MyDrive/dataset/Data/genres_original/country/country.00009.wav, segment:6\n",
            "/content/drive/MyDrive/dataset/Data/genres_original/country/country.00009.wav, segment:7\n",
            "/content/drive/MyDrive/dataset/Data/genres_original/country/country.00009.wav, segment:8\n",
            "/content/drive/MyDrive/dataset/Data/genres_original/country/country.00009.wav, segment:9\n",
            "/content/drive/MyDrive/dataset/Data/genres_original/country/country.00009.wav, segment:10\n",
            "/content/drive/MyDrive/dataset/Data/genres_original/country/country.00003.wav, segment:1\n",
            "/content/drive/MyDrive/dataset/Data/genres_original/country/country.00003.wav, segment:2\n",
            "/content/drive/MyDrive/dataset/Data/genres_original/country/country.00003.wav, segment:3\n",
            "/content/drive/MyDrive/dataset/Data/genres_original/country/country.00003.wav, segment:4\n",
            "/content/drive/MyDrive/dataset/Data/genres_original/country/country.00003.wav, segment:5\n",
            "/content/drive/MyDrive/dataset/Data/genres_original/country/country.00003.wav, segment:6\n",
            "/content/drive/MyDrive/dataset/Data/genres_original/country/country.00003.wav, segment:7\n",
            "/content/drive/MyDrive/dataset/Data/genres_original/country/country.00003.wav, segment:8\n",
            "/content/drive/MyDrive/dataset/Data/genres_original/country/country.00003.wav, segment:9\n",
            "/content/drive/MyDrive/dataset/Data/genres_original/country/country.00003.wav, segment:10\n",
            "/content/drive/MyDrive/dataset/Data/genres_original/country/country.00008.wav, segment:1\n",
            "/content/drive/MyDrive/dataset/Data/genres_original/country/country.00008.wav, segment:2\n",
            "/content/drive/MyDrive/dataset/Data/genres_original/country/country.00008.wav, segment:3\n",
            "/content/drive/MyDrive/dataset/Data/genres_original/country/country.00008.wav, segment:4\n",
            "/content/drive/MyDrive/dataset/Data/genres_original/country/country.00008.wav, segment:5\n",
            "/content/drive/MyDrive/dataset/Data/genres_original/country/country.00008.wav, segment:6\n",
            "/content/drive/MyDrive/dataset/Data/genres_original/country/country.00008.wav, segment:7\n",
            "/content/drive/MyDrive/dataset/Data/genres_original/country/country.00008.wav, segment:8\n",
            "/content/drive/MyDrive/dataset/Data/genres_original/country/country.00008.wav, segment:9\n",
            "/content/drive/MyDrive/dataset/Data/genres_original/country/country.00008.wav, segment:10\n",
            "/content/drive/MyDrive/dataset/Data/genres_original/country/country.00002.wav, segment:1\n",
            "/content/drive/MyDrive/dataset/Data/genres_original/country/country.00002.wav, segment:2\n",
            "/content/drive/MyDrive/dataset/Data/genres_original/country/country.00002.wav, segment:3\n",
            "/content/drive/MyDrive/dataset/Data/genres_original/country/country.00002.wav, segment:4\n",
            "/content/drive/MyDrive/dataset/Data/genres_original/country/country.00002.wav, segment:5\n",
            "/content/drive/MyDrive/dataset/Data/genres_original/country/country.00002.wav, segment:6\n",
            "/content/drive/MyDrive/dataset/Data/genres_original/country/country.00002.wav, segment:7\n",
            "/content/drive/MyDrive/dataset/Data/genres_original/country/country.00002.wav, segment:8\n",
            "/content/drive/MyDrive/dataset/Data/genres_original/country/country.00002.wav, segment:9\n",
            "/content/drive/MyDrive/dataset/Data/genres_original/country/country.00002.wav, segment:10\n",
            "/content/drive/MyDrive/dataset/Data/genres_original/country/country.00006.wav, segment:1\n",
            "/content/drive/MyDrive/dataset/Data/genres_original/country/country.00006.wav, segment:2\n",
            "/content/drive/MyDrive/dataset/Data/genres_original/country/country.00006.wav, segment:3\n",
            "/content/drive/MyDrive/dataset/Data/genres_original/country/country.00006.wav, segment:4\n",
            "/content/drive/MyDrive/dataset/Data/genres_original/country/country.00006.wav, segment:5\n",
            "/content/drive/MyDrive/dataset/Data/genres_original/country/country.00006.wav, segment:6\n",
            "/content/drive/MyDrive/dataset/Data/genres_original/country/country.00006.wav, segment:7\n",
            "/content/drive/MyDrive/dataset/Data/genres_original/country/country.00006.wav, segment:8\n",
            "/content/drive/MyDrive/dataset/Data/genres_original/country/country.00006.wav, segment:9\n",
            "/content/drive/MyDrive/dataset/Data/genres_original/country/country.00006.wav, segment:10\n"
          ]
        }
      ]
    },
    {
      "cell_type": "code",
      "metadata": {
        "colab": {
          "base_uri": "https://localhost:8080/"
        },
        "id": "up7TRJZKisqf",
        "outputId": "85aa1253-28f2-4e2b-e28f-6aacd13be280"
      },
      "source": [
        "from google.colab import drive\n",
        "drive.mount('/content/drive')"
      ],
      "execution_count": null,
      "outputs": [
        {
          "output_type": "stream",
          "name": "stdout",
          "text": [
            "Drive already mounted at /content/drive; to attempt to forcibly remount, call drive.mount(\"/content/drive\", force_remount=True).\n"
          ]
        }
      ]
    },
    {
      "cell_type": "code",
      "metadata": {
        "id": "xIZGp4jKep6T"
      },
      "source": [
        "import json\n",
        "import numpy as np\n",
        "from sklearn.model_selection import train_test_split\n",
        "import tensorflow.keras as keras\n",
        "\n",
        "import matplotlib.pyplot as plt\n",
        "import random\n",
        "\n",
        "import librosa\n",
        "import math"
      ],
      "execution_count": null,
      "outputs": []
    },
    {
      "cell_type": "code",
      "metadata": {
        "id": "KiRjRidDetah"
      },
      "source": [
        "# path to json\n",
        "DATA_PATH =\"/content/drive/MyDrive/dataset/Data/genres_original/data_10.json\""
      ],
      "execution_count": null,
      "outputs": []
    },
    {
      "cell_type": "code",
      "metadata": {
        "id": "-hKP_Ow3exhx"
      },
      "source": [
        "def load_data(data_path):\n",
        "\n",
        "    with open(data_path, \"r\") as f:\n",
        "        data = json.load(f)\n",
        "\n",
        "    # convert lists to numpy arrays\n",
        "    X = np.array(data[\"mfcc\"])\n",
        "    y = np.array(data[\"labels\"])\n",
        "\n",
        "    print(\"Data succesfully loaded!\")\n",
        "\n",
        "    return  X, y"
      ],
      "execution_count": null,
      "outputs": []
    },
    {
      "cell_type": "code",
      "metadata": {
        "id": "2Ychsqbre3aa",
        "colab": {
          "base_uri": "https://localhost:8080/"
        },
        "outputId": "37ebe7a7-e21f-4e9f-afa5-9f7890158ba9"
      },
      "source": [
        "# load data\n",
        "X, y = load_data(DATA_PATH)"
      ],
      "execution_count": null,
      "outputs": [
        {
          "output_type": "stream",
          "text": [
            "Data succesfully loaded!\n"
          ],
          "name": "stdout"
        }
      ]
    },
    {
      "cell_type": "markdown",
      "metadata": {
        "id": "a0_Z8wCCIFYY"
      },
      "source": [
        "# New Section"
      ]
    },
    {
      "cell_type": "code",
      "metadata": {
        "id": "0TmP7D8-e6ao",
        "colab": {
          "base_uri": "https://localhost:8080/"
        },
        "outputId": "bbca68e1-28c6-4816-d8e9-cb80e576b7b6"
      },
      "source": [
        "X.shape"
      ],
      "execution_count": null,
      "outputs": [
        {
          "output_type": "execute_result",
          "data": {
            "text/plain": [
              "(999, 130, 13)"
            ]
          },
          "metadata": {
            "tags": []
          },
          "execution_count": 41
        }
      ]
    },
    {
      "cell_type": "code",
      "metadata": {
        "id": "yRdKsiiie9mx"
      },
      "source": [
        "# create train/test split\n",
        "X_train, X_test, y_train, y_test = train_test_split(X, y, test_size=0.3)"
      ],
      "execution_count": null,
      "outputs": []
    },
    {
      "cell_type": "markdown",
      "metadata": {
        "id": "loJmO4cNfBpm"
      },
      "source": [
        "\n",
        "\n",
        "```\n",
        "# This is formatted as code\n",
        "```\n",
        "\n",
        "**SIMPLE** **ANN**"
      ]
    },
    {
      "cell_type": "code",
      "metadata": {
        "id": "0AiZGxmZe-v9"
      },
      "source": [
        "# build network topology\n",
        "model = keras.Sequential([\n",
        "\n",
        "    # input layer\n",
        "    keras.layers.Flatten(input_shape=(X.shape[1], X.shape[2])),\n",
        "\n",
        "    # 1st dense layer\n",
        "    keras.layers.Dense(512, activation='relu'),\n",
        "\n",
        "    # 2nd dense layer\n",
        "    keras.layers.Dense(256, activation='relu'),\n",
        "\n",
        "    # 3rd dense layer\n",
        "    keras.layers.Dense(64, activation='relu'),\n",
        "\n",
        "    # output layer\n",
        "    keras.layers.Dense(10, activation='softmax')\n",
        "])"
      ],
      "execution_count": null,
      "outputs": []
    },
    {
      "cell_type": "code",
      "metadata": {
        "id": "owr6UrzafHRZ"
      },
      "source": [
        "# compile model\n",
        "optimiser = keras.optimizers.Adam(learning_rate=0.0001)\n",
        "model.compile(optimizer=optimiser,\n",
        "              loss='sparse_categorical_crossentropy',\n",
        "              metrics=['accuracy'])"
      ],
      "execution_count": null,
      "outputs": []
    },
    {
      "cell_type": "code",
      "metadata": {
        "id": "LxxpisQ6fMCv",
        "colab": {
          "base_uri": "https://localhost:8080/"
        },
        "outputId": "bacb738e-a1c5-4600-b419-dc5d6cfa5894"
      },
      "source": [
        "model.summary()"
      ],
      "execution_count": null,
      "outputs": [
        {
          "output_type": "stream",
          "text": [
            "Model: \"sequential_3\"\n",
            "_________________________________________________________________\n",
            "Layer (type)                 Output Shape              Param #   \n",
            "=================================================================\n",
            "flatten_3 (Flatten)          (None, 1690)              0         \n",
            "_________________________________________________________________\n",
            "dense_12 (Dense)             (None, 512)               865792    \n",
            "_________________________________________________________________\n",
            "dense_13 (Dense)             (None, 256)               131328    \n",
            "_________________________________________________________________\n",
            "dense_14 (Dense)             (None, 64)                16448     \n",
            "_________________________________________________________________\n",
            "dense_15 (Dense)             (None, 10)                650       \n",
            "=================================================================\n",
            "Total params: 1,014,218\n",
            "Trainable params: 1,014,218\n",
            "Non-trainable params: 0\n",
            "_________________________________________________________________\n"
          ],
          "name": "stdout"
        }
      ]
    },
    {
      "cell_type": "code",
      "metadata": {
        "colab": {
          "base_uri": "https://localhost:8080/"
        },
        "id": "4MMJtxWgfM7g",
        "outputId": "78097230-7301-441d-bdee-a36d20af8439"
      },
      "source": [
        "# train model\n",
        "history = model.fit(X_train, y_train, validation_data=(X_test, y_test), batch_size=32, epochs=50)"
      ],
      "execution_count": null,
      "outputs": [
        {
          "output_type": "stream",
          "text": [
            "Epoch 1/50\n",
            "22/22 [==============================] - 1s 20ms/step - loss: 46.1699 - accuracy: 0.1416 - val_loss: 9.6602 - val_accuracy: 0.2600\n",
            "Epoch 2/50\n",
            "22/22 [==============================] - 0s 13ms/step - loss: 6.5050 - accuracy: 0.3824 - val_loss: 4.8782 - val_accuracy: 0.4633\n",
            "Epoch 3/50\n",
            "22/22 [==============================] - 0s 13ms/step - loss: 2.8564 - accuracy: 0.6075 - val_loss: 4.2969 - val_accuracy: 0.4967\n",
            "Epoch 4/50\n",
            "22/22 [==============================] - 0s 13ms/step - loss: 1.9401 - accuracy: 0.6587 - val_loss: 3.8190 - val_accuracy: 0.5433\n",
            "Epoch 5/50\n",
            "22/22 [==============================] - 0s 13ms/step - loss: 1.2012 - accuracy: 0.7794 - val_loss: 3.6575 - val_accuracy: 0.5467\n",
            "Epoch 6/50\n",
            "22/22 [==============================] - 0s 13ms/step - loss: 0.7202 - accuracy: 0.8602 - val_loss: 3.3520 - val_accuracy: 0.5467\n",
            "Epoch 7/50\n",
            "22/22 [==============================] - 0s 13ms/step - loss: 0.5491 - accuracy: 0.8836 - val_loss: 3.3495 - val_accuracy: 0.5667\n",
            "Epoch 8/50\n",
            "22/22 [==============================] - 0s 13ms/step - loss: 0.2331 - accuracy: 0.9340 - val_loss: 3.2804 - val_accuracy: 0.5833\n",
            "Epoch 9/50\n",
            "22/22 [==============================] - 0s 13ms/step - loss: 0.1135 - accuracy: 0.9730 - val_loss: 3.2248 - val_accuracy: 0.5600\n",
            "Epoch 10/50\n",
            "22/22 [==============================] - 0s 13ms/step - loss: 0.0757 - accuracy: 0.9777 - val_loss: 3.2800 - val_accuracy: 0.5600\n",
            "Epoch 11/50\n",
            "22/22 [==============================] - 0s 13ms/step - loss: 0.0325 - accuracy: 0.9954 - val_loss: 3.4827 - val_accuracy: 0.5767\n",
            "Epoch 12/50\n",
            "22/22 [==============================] - 0s 13ms/step - loss: 0.0387 - accuracy: 0.9895 - val_loss: 3.1871 - val_accuracy: 0.5933\n",
            "Epoch 13/50\n",
            "22/22 [==============================] - 0s 13ms/step - loss: 0.0100 - accuracy: 0.9986 - val_loss: 3.2267 - val_accuracy: 0.5833\n",
            "Epoch 14/50\n",
            "22/22 [==============================] - 0s 13ms/step - loss: 0.0089 - accuracy: 0.9987 - val_loss: 3.1537 - val_accuracy: 0.5800\n",
            "Epoch 15/50\n",
            "22/22 [==============================] - 0s 13ms/step - loss: 0.0266 - accuracy: 0.9936 - val_loss: 3.2675 - val_accuracy: 0.5867\n",
            "Epoch 16/50\n",
            "22/22 [==============================] - 0s 13ms/step - loss: 0.1010 - accuracy: 0.9757 - val_loss: 3.3134 - val_accuracy: 0.5833\n",
            "Epoch 17/50\n",
            "22/22 [==============================] - 0s 13ms/step - loss: 0.0183 - accuracy: 1.0000 - val_loss: 3.1828 - val_accuracy: 0.5800\n",
            "Epoch 18/50\n",
            "22/22 [==============================] - 0s 13ms/step - loss: 0.0054 - accuracy: 1.0000 - val_loss: 3.1163 - val_accuracy: 0.5833\n",
            "Epoch 19/50\n",
            "22/22 [==============================] - 0s 15ms/step - loss: 0.0036 - accuracy: 1.0000 - val_loss: 3.1161 - val_accuracy: 0.5800\n",
            "Epoch 20/50\n",
            "22/22 [==============================] - 0s 14ms/step - loss: 0.0027 - accuracy: 1.0000 - val_loss: 3.1088 - val_accuracy: 0.5800\n",
            "Epoch 21/50\n",
            "22/22 [==============================] - 0s 13ms/step - loss: 0.0033 - accuracy: 1.0000 - val_loss: 3.1061 - val_accuracy: 0.5833\n",
            "Epoch 22/50\n",
            "22/22 [==============================] - 0s 13ms/step - loss: 0.0026 - accuracy: 1.0000 - val_loss: 3.1112 - val_accuracy: 0.5800\n",
            "Epoch 23/50\n",
            "22/22 [==============================] - 0s 14ms/step - loss: 0.0024 - accuracy: 1.0000 - val_loss: 3.0997 - val_accuracy: 0.5867\n",
            "Epoch 24/50\n",
            "22/22 [==============================] - 0s 15ms/step - loss: 0.0020 - accuracy: 1.0000 - val_loss: 3.1095 - val_accuracy: 0.5900\n",
            "Epoch 25/50\n",
            "22/22 [==============================] - 0s 13ms/step - loss: 0.0022 - accuracy: 1.0000 - val_loss: 3.1032 - val_accuracy: 0.5900\n",
            "Epoch 26/50\n",
            "22/22 [==============================] - 0s 13ms/step - loss: 0.0023 - accuracy: 1.0000 - val_loss: 3.1002 - val_accuracy: 0.5933\n",
            "Epoch 27/50\n",
            "22/22 [==============================] - 0s 13ms/step - loss: 0.0020 - accuracy: 1.0000 - val_loss: 3.0989 - val_accuracy: 0.5933\n",
            "Epoch 28/50\n",
            "22/22 [==============================] - 0s 13ms/step - loss: 0.0018 - accuracy: 1.0000 - val_loss: 3.1015 - val_accuracy: 0.5900\n",
            "Epoch 29/50\n",
            "22/22 [==============================] - 0s 15ms/step - loss: 0.0018 - accuracy: 1.0000 - val_loss: 3.0932 - val_accuracy: 0.5967\n",
            "Epoch 30/50\n",
            "22/22 [==============================] - 0s 14ms/step - loss: 0.0017 - accuracy: 1.0000 - val_loss: 3.0933 - val_accuracy: 0.5967\n",
            "Epoch 31/50\n",
            "22/22 [==============================] - 0s 14ms/step - loss: 0.0018 - accuracy: 1.0000 - val_loss: 3.1000 - val_accuracy: 0.5967\n",
            "Epoch 32/50\n",
            "22/22 [==============================] - 0s 13ms/step - loss: 0.0017 - accuracy: 1.0000 - val_loss: 3.0958 - val_accuracy: 0.6000\n",
            "Epoch 33/50\n",
            "22/22 [==============================] - 0s 14ms/step - loss: 0.0013 - accuracy: 1.0000 - val_loss: 3.0933 - val_accuracy: 0.5967\n",
            "Epoch 34/50\n",
            "22/22 [==============================] - 0s 13ms/step - loss: 0.0015 - accuracy: 1.0000 - val_loss: 3.0929 - val_accuracy: 0.6000\n",
            "Epoch 35/50\n",
            "22/22 [==============================] - 0s 13ms/step - loss: 0.0013 - accuracy: 1.0000 - val_loss: 3.0966 - val_accuracy: 0.6000\n",
            "Epoch 36/50\n",
            "22/22 [==============================] - 0s 13ms/step - loss: 0.0013 - accuracy: 1.0000 - val_loss: 3.0942 - val_accuracy: 0.5967\n",
            "Epoch 37/50\n",
            "22/22 [==============================] - 0s 13ms/step - loss: 0.0013 - accuracy: 1.0000 - val_loss: 3.0915 - val_accuracy: 0.6000\n",
            "Epoch 38/50\n",
            "22/22 [==============================] - 0s 13ms/step - loss: 0.0013 - accuracy: 1.0000 - val_loss: 3.0956 - val_accuracy: 0.5967\n",
            "Epoch 39/50\n",
            "22/22 [==============================] - 0s 13ms/step - loss: 0.0011 - accuracy: 1.0000 - val_loss: 3.0870 - val_accuracy: 0.6000\n",
            "Epoch 40/50\n",
            "22/22 [==============================] - 0s 13ms/step - loss: 0.0011 - accuracy: 1.0000 - val_loss: 3.0863 - val_accuracy: 0.6000\n",
            "Epoch 41/50\n",
            "22/22 [==============================] - 0s 13ms/step - loss: 0.0011 - accuracy: 1.0000 - val_loss: 3.0867 - val_accuracy: 0.6000\n",
            "Epoch 42/50\n",
            "22/22 [==============================] - 0s 13ms/step - loss: 0.0010 - accuracy: 1.0000 - val_loss: 3.0880 - val_accuracy: 0.5967\n",
            "Epoch 43/50\n",
            "22/22 [==============================] - 0s 13ms/step - loss: 0.0011 - accuracy: 1.0000 - val_loss: 3.0873 - val_accuracy: 0.6033\n",
            "Epoch 44/50\n",
            "22/22 [==============================] - 0s 13ms/step - loss: 9.9308e-04 - accuracy: 1.0000 - val_loss: 3.0789 - val_accuracy: 0.6067\n",
            "Epoch 45/50\n",
            "22/22 [==============================] - 0s 13ms/step - loss: 9.5744e-04 - accuracy: 1.0000 - val_loss: 3.0866 - val_accuracy: 0.5967\n",
            "Epoch 46/50\n",
            "22/22 [==============================] - 0s 13ms/step - loss: 8.5886e-04 - accuracy: 1.0000 - val_loss: 3.0841 - val_accuracy: 0.6000\n",
            "Epoch 47/50\n",
            "22/22 [==============================] - 0s 15ms/step - loss: 8.9457e-04 - accuracy: 1.0000 - val_loss: 3.0847 - val_accuracy: 0.6000\n",
            "Epoch 48/50\n",
            "22/22 [==============================] - 0s 13ms/step - loss: 9.3904e-04 - accuracy: 1.0000 - val_loss: 3.0847 - val_accuracy: 0.6033\n",
            "Epoch 49/50\n",
            "22/22 [==============================] - 0s 13ms/step - loss: 8.3548e-04 - accuracy: 1.0000 - val_loss: 3.0826 - val_accuracy: 0.6033\n",
            "Epoch 50/50\n",
            "22/22 [==============================] - 0s 13ms/step - loss: 9.2205e-04 - accuracy: 1.0000 - val_loss: 3.0823 - val_accuracy: 0.6033\n"
          ],
          "name": "stdout"
        }
      ]
    },
    {
      "cell_type": "code",
      "metadata": {
        "id": "Zo86-OQIfQCc"
      },
      "source": [
        "def plot_history(history):\n",
        "\n",
        "    fig, axs = plt.subplots(2)\n",
        "\n",
        "    # create accuracy sublpot\n",
        "    axs[0].plot(history.history[\"accuracy\"], label=\"train accuracy\")\n",
        "    axs[0].plot(history.history[\"val_accuracy\"], label=\"test accuracy\")\n",
        "    axs[0].set_ylabel(\"Accuracy\")\n",
        "    axs[0].legend(loc=\"lower right\")\n",
        "    axs[0].set_title(\"Accuracy eval\")\n",
        "\n",
        "    # create error sublpot\n",
        "    axs[1].plot(history.history[\"loss\"], label=\"train error\")\n",
        "    axs[1].plot(history.history[\"val_loss\"], label=\"test error\")\n",
        "    axs[1].set_ylabel(\"Error\")\n",
        "    axs[1].set_xlabel(\"Epoch\")\n",
        "    axs[1].legend(loc=\"upper right\")\n",
        "    axs[1].set_title(\"Error eval\")\n",
        "    \n",
        "    plt.show()"
      ],
      "execution_count": null,
      "outputs": []
    },
    {
      "cell_type": "code",
      "metadata": {
        "colab": {
          "base_uri": "https://localhost:8080/",
          "height": 295
        },
        "id": "5uzbqNgTfTI9",
        "outputId": "0cec1851-fab6-41db-89db-d7db6589498f"
      },
      "source": [
        "# plot accuracy and error as a function of the epochs\n",
        "plot_history(history)"
      ],
      "execution_count": null,
      "outputs": [
        {
          "output_type": "display_data",
          "data": {
            "image/png": "[encoded data removed]",
            "text/plain": [
              "<Figure size 432x288 with 2 Axes>"
            ]
          },
          "metadata": {
            "tags": [],
            "needs_background": "light"
          }
        }
      ]
    },
    {
      "cell_type": "markdown",
      "metadata": {
        "id": "bTnc6gZafZ3r"
      },
      "source": [
        "MANAGING OVERFITTING"
      ]
    },
    {
      "cell_type": "code",
      "metadata": {
        "id": "YZ6C5WvqfW5P"
      },
      "source": [
        "# build network topology\n",
        "model_regularized = keras.Sequential([\n",
        "\n",
        "    # input layer\n",
        "    keras.layers.Flatten(input_shape=(X.shape[1], X.shape[2])),\n",
        "\n",
        "    # 1st dense layer\n",
        "    keras.layers.Dense(512, activation='relu', kernel_regularizer=keras.regularizers.l2(0.001)),\n",
        "    keras.layers.Dropout(0.3),\n",
        "\n",
        "    # 2nd dense layer\n",
        "    keras.layers.Dense(256, activation='relu', kernel_regularizer=keras.regularizers.l2(0.001)),\n",
        "    keras.layers.Dropout(0.3),\n",
        "\n",
        "    # 3rd dense layer\n",
        "    keras.layers.Dense(64, activation='relu', kernel_regularizer=keras.regularizers.l2(0.001)),\n",
        "    keras.layers.Dropout(0.3),\n",
        "\n",
        "    # output layer\n",
        "    keras.layers.Dense(10, activation='softmax')\n",
        "])"
      ],
      "execution_count": null,
      "outputs": []
    },
    {
      "cell_type": "code",
      "metadata": {
        "id": "98G1FattfhQt"
      },
      "source": [
        "# compile model\n",
        "optimiser = keras.optimizers.Adam(learning_rate=0.0001)\n",
        "model_regularized.compile(optimizer=optimiser,\n",
        "              loss='sparse_categorical_crossentropy',\n",
        "              metrics=['accuracy'])"
      ],
      "execution_count": null,
      "outputs": []
    },
    {
      "cell_type": "code",
      "metadata": {
        "colab": {
          "base_uri": "https://localhost:8080/"
        },
        "id": "bzDWOE5_fiIS",
        "outputId": "e793d478-6a5f-4106-c885-8ac6453f7dac"
      },
      "source": [
        "# train model\n",
        "history = model_regularized.fit(X_train, y_train, validation_data=(X_test, y_test), batch_size=32, epochs=100)"
      ],
      "execution_count": null,
      "outputs": [
        {
          "output_type": "stream",
          "text": [
            "Epoch 1/100\n",
            "22/22 [==============================] - 1s 26ms/step - loss: 86.8858 - accuracy: 0.1213 - val_loss: 16.0829 - val_accuracy: 0.2433\n",
            "Epoch 2/100\n",
            "22/22 [==============================] - 0s 17ms/step - loss: 37.0417 - accuracy: 0.1664 - val_loss: 7.0465 - val_accuracy: 0.3167\n",
            "Epoch 3/100\n",
            "22/22 [==============================] - 0s 16ms/step - loss: 23.9131 - accuracy: 0.1560 - val_loss: 6.1889 - val_accuracy: 0.3067\n",
            "Epoch 4/100\n",
            "22/22 [==============================] - 0s 16ms/step - loss: 19.0403 - accuracy: 0.2199 - val_loss: 4.3434 - val_accuracy: 0.3867\n",
            "Epoch 5/100\n",
            "22/22 [==============================] - 0s 16ms/step - loss: 15.5689 - accuracy: 0.2573 - val_loss: 4.2291 - val_accuracy: 0.3800\n",
            "Epoch 6/100\n",
            "22/22 [==============================] - 0s 16ms/step - loss: 14.1228 - accuracy: 0.2390 - val_loss: 3.9625 - val_accuracy: 0.3833\n",
            "Epoch 7/100\n",
            "22/22 [==============================] - 0s 17ms/step - loss: 11.7991 - accuracy: 0.2284 - val_loss: 3.6175 - val_accuracy: 0.4033\n",
            "Epoch 8/100\n",
            "22/22 [==============================] - 0s 16ms/step - loss: 10.9505 - accuracy: 0.2850 - val_loss: 3.3653 - val_accuracy: 0.4000\n",
            "Epoch 9/100\n",
            "22/22 [==============================] - 0s 16ms/step - loss: 9.8072 - accuracy: 0.2842 - val_loss: 3.1556 - val_accuracy: 0.4300\n",
            "Epoch 10/100\n",
            "22/22 [==============================] - 0s 16ms/step - loss: 8.5565 - accuracy: 0.2933 - val_loss: 3.3856 - val_accuracy: 0.4267\n",
            "Epoch 11/100\n",
            "22/22 [==============================] - 0s 16ms/step - loss: 7.8694 - accuracy: 0.2968 - val_loss: 3.1108 - val_accuracy: 0.4333\n",
            "Epoch 12/100\n",
            "22/22 [==============================] - 0s 16ms/step - loss: 8.0075 - accuracy: 0.2900 - val_loss: 3.0106 - val_accuracy: 0.4133\n",
            "Epoch 13/100\n",
            "22/22 [==============================] - 0s 16ms/step - loss: 7.0284 - accuracy: 0.2948 - val_loss: 2.9435 - val_accuracy: 0.4400\n",
            "Epoch 14/100\n",
            "22/22 [==============================] - 0s 17ms/step - loss: 5.9012 - accuracy: 0.3348 - val_loss: 2.9315 - val_accuracy: 0.4200\n",
            "Epoch 15/100\n",
            "22/22 [==============================] - 0s 17ms/step - loss: 6.0824 - accuracy: 0.3142 - val_loss: 2.8421 - val_accuracy: 0.4433\n",
            "Epoch 16/100\n",
            "22/22 [==============================] - 0s 16ms/step - loss: 5.6650 - accuracy: 0.3039 - val_loss: 2.8127 - val_accuracy: 0.4467\n",
            "Epoch 17/100\n",
            "22/22 [==============================] - 0s 17ms/step - loss: 5.7216 - accuracy: 0.3132 - val_loss: 2.7464 - val_accuracy: 0.4400\n",
            "Epoch 18/100\n",
            "22/22 [==============================] - 0s 16ms/step - loss: 5.0933 - accuracy: 0.3245 - val_loss: 2.7353 - val_accuracy: 0.5000\n",
            "Epoch 19/100\n",
            "22/22 [==============================] - 0s 16ms/step - loss: 5.2712 - accuracy: 0.3148 - val_loss: 2.6858 - val_accuracy: 0.5033\n",
            "Epoch 20/100\n",
            "22/22 [==============================] - 0s 16ms/step - loss: 4.9818 - accuracy: 0.3340 - val_loss: 2.7575 - val_accuracy: 0.5033\n",
            "Epoch 21/100\n",
            "22/22 [==============================] - 0s 16ms/step - loss: 4.5952 - accuracy: 0.3370 - val_loss: 2.6977 - val_accuracy: 0.4800\n",
            "Epoch 22/100\n",
            "22/22 [==============================] - 0s 16ms/step - loss: 4.0442 - accuracy: 0.3981 - val_loss: 2.6851 - val_accuracy: 0.4800\n",
            "Epoch 23/100\n",
            "22/22 [==============================] - 0s 17ms/step - loss: 4.6564 - accuracy: 0.3462 - val_loss: 2.6652 - val_accuracy: 0.4900\n",
            "Epoch 24/100\n",
            "22/22 [==============================] - 0s 16ms/step - loss: 4.2706 - accuracy: 0.3426 - val_loss: 2.6214 - val_accuracy: 0.5200\n",
            "Epoch 25/100\n",
            "22/22 [==============================] - 0s 17ms/step - loss: 3.9855 - accuracy: 0.3713 - val_loss: 2.6568 - val_accuracy: 0.5000\n",
            "Epoch 26/100\n",
            "22/22 [==============================] - 0s 17ms/step - loss: 3.9909 - accuracy: 0.3213 - val_loss: 2.6435 - val_accuracy: 0.5267\n",
            "Epoch 27/100\n",
            "22/22 [==============================] - 0s 17ms/step - loss: 3.6314 - accuracy: 0.4175 - val_loss: 2.6668 - val_accuracy: 0.5067\n",
            "Epoch 28/100\n",
            "22/22 [==============================] - 0s 17ms/step - loss: 3.9192 - accuracy: 0.3266 - val_loss: 2.6133 - val_accuracy: 0.5067\n",
            "Epoch 29/100\n",
            "22/22 [==============================] - 0s 17ms/step - loss: 3.6872 - accuracy: 0.3603 - val_loss: 2.6112 - val_accuracy: 0.5100\n",
            "Epoch 30/100\n",
            "22/22 [==============================] - 0s 16ms/step - loss: 3.6859 - accuracy: 0.3696 - val_loss: 2.6029 - val_accuracy: 0.5200\n",
            "Epoch 31/100\n",
            "22/22 [==============================] - 0s 17ms/step - loss: 3.4876 - accuracy: 0.3938 - val_loss: 2.5939 - val_accuracy: 0.5033\n",
            "Epoch 32/100\n",
            "22/22 [==============================] - 0s 17ms/step - loss: 3.4496 - accuracy: 0.4030 - val_loss: 2.5703 - val_accuracy: 0.5267\n",
            "Epoch 33/100\n",
            "22/22 [==============================] - 0s 17ms/step - loss: 3.4440 - accuracy: 0.3975 - val_loss: 2.5670 - val_accuracy: 0.5367\n",
            "Epoch 34/100\n",
            "22/22 [==============================] - 0s 18ms/step - loss: 3.2202 - accuracy: 0.4295 - val_loss: 2.5722 - val_accuracy: 0.5400\n",
            "Epoch 35/100\n",
            "22/22 [==============================] - 0s 16ms/step - loss: 3.3640 - accuracy: 0.4264 - val_loss: 2.5521 - val_accuracy: 0.5667\n",
            "Epoch 36/100\n",
            "22/22 [==============================] - 0s 16ms/step - loss: 3.3116 - accuracy: 0.4081 - val_loss: 2.5188 - val_accuracy: 0.5600\n",
            "Epoch 37/100\n",
            "22/22 [==============================] - 0s 16ms/step - loss: 3.3924 - accuracy: 0.3860 - val_loss: 2.5684 - val_accuracy: 0.5433\n",
            "Epoch 38/100\n",
            "22/22 [==============================] - 0s 17ms/step - loss: 3.2614 - accuracy: 0.4021 - val_loss: 2.5580 - val_accuracy: 0.5600\n",
            "Epoch 39/100\n",
            "22/22 [==============================] - 0s 18ms/step - loss: 3.0197 - accuracy: 0.4292 - val_loss: 2.5152 - val_accuracy: 0.5500\n",
            "Epoch 40/100\n",
            "22/22 [==============================] - 0s 17ms/step - loss: 2.9302 - accuracy: 0.4745 - val_loss: 2.4845 - val_accuracy: 0.5667\n",
            "Epoch 41/100\n",
            "22/22 [==============================] - 0s 17ms/step - loss: 3.0394 - accuracy: 0.4688 - val_loss: 2.4601 - val_accuracy: 0.5700\n",
            "Epoch 42/100\n",
            "22/22 [==============================] - 0s 17ms/step - loss: 3.0853 - accuracy: 0.4183 - val_loss: 2.4444 - val_accuracy: 0.5700\n",
            "Epoch 43/100\n",
            "22/22 [==============================] - 0s 17ms/step - loss: 2.9124 - accuracy: 0.4896 - val_loss: 2.4796 - val_accuracy: 0.5733\n",
            "Epoch 44/100\n",
            "22/22 [==============================] - 0s 17ms/step - loss: 2.7337 - accuracy: 0.5010 - val_loss: 2.4103 - val_accuracy: 0.6067\n",
            "Epoch 45/100\n",
            "22/22 [==============================] - 0s 18ms/step - loss: 2.9830 - accuracy: 0.4509 - val_loss: 2.3946 - val_accuracy: 0.5967\n",
            "Epoch 46/100\n",
            "22/22 [==============================] - 0s 17ms/step - loss: 2.8344 - accuracy: 0.5012 - val_loss: 2.4046 - val_accuracy: 0.5900\n",
            "Epoch 47/100\n",
            "22/22 [==============================] - 0s 17ms/step - loss: 2.8627 - accuracy: 0.4922 - val_loss: 2.4168 - val_accuracy: 0.5700\n",
            "Epoch 48/100\n",
            "22/22 [==============================] - 0s 16ms/step - loss: 2.9606 - accuracy: 0.4942 - val_loss: 2.4164 - val_accuracy: 0.5567\n",
            "Epoch 49/100\n",
            "22/22 [==============================] - 0s 16ms/step - loss: 2.9160 - accuracy: 0.4890 - val_loss: 2.4491 - val_accuracy: 0.5833\n",
            "Epoch 50/100\n",
            "22/22 [==============================] - 0s 17ms/step - loss: 2.7043 - accuracy: 0.5033 - val_loss: 2.4041 - val_accuracy: 0.5833\n",
            "Epoch 51/100\n",
            "22/22 [==============================] - 0s 16ms/step - loss: 2.7920 - accuracy: 0.5068 - val_loss: 2.3794 - val_accuracy: 0.5867\n",
            "Epoch 52/100\n",
            "22/22 [==============================] - 0s 17ms/step - loss: 2.7169 - accuracy: 0.4644 - val_loss: 2.3964 - val_accuracy: 0.5867\n",
            "Epoch 53/100\n",
            "22/22 [==============================] - 0s 17ms/step - loss: 2.5971 - accuracy: 0.5602 - val_loss: 2.3945 - val_accuracy: 0.5767\n",
            "Epoch 54/100\n",
            "22/22 [==============================] - 0s 16ms/step - loss: 2.6734 - accuracy: 0.5124 - val_loss: 2.3860 - val_accuracy: 0.5900\n",
            "Epoch 55/100\n",
            "22/22 [==============================] - 0s 17ms/step - loss: 2.7228 - accuracy: 0.5094 - val_loss: 2.3196 - val_accuracy: 0.6067\n",
            "Epoch 56/100\n",
            "22/22 [==============================] - 0s 17ms/step - loss: 2.6559 - accuracy: 0.5370 - val_loss: 2.2928 - val_accuracy: 0.6500\n",
            "Epoch 57/100\n",
            "22/22 [==============================] - 0s 16ms/step - loss: 2.5968 - accuracy: 0.5496 - val_loss: 2.3322 - val_accuracy: 0.6200\n",
            "Epoch 58/100\n",
            "22/22 [==============================] - 0s 16ms/step - loss: 2.5916 - accuracy: 0.5751 - val_loss: 2.2653 - val_accuracy: 0.6233\n",
            "Epoch 59/100\n",
            "22/22 [==============================] - 0s 17ms/step - loss: 2.6749 - accuracy: 0.5169 - val_loss: 2.2966 - val_accuracy: 0.6300\n",
            "Epoch 60/100\n",
            "22/22 [==============================] - 0s 16ms/step - loss: 2.4445 - accuracy: 0.5816 - val_loss: 2.2582 - val_accuracy: 0.6267\n",
            "Epoch 61/100\n",
            "22/22 [==============================] - 0s 16ms/step - loss: 2.4937 - accuracy: 0.5803 - val_loss: 2.2565 - val_accuracy: 0.6600\n",
            "Epoch 62/100\n",
            "22/22 [==============================] - 0s 16ms/step - loss: 2.3434 - accuracy: 0.6146 - val_loss: 2.2282 - val_accuracy: 0.6533\n",
            "Epoch 63/100\n",
            "22/22 [==============================] - 0s 17ms/step - loss: 2.4227 - accuracy: 0.5747 - val_loss: 2.2308 - val_accuracy: 0.6633\n",
            "Epoch 64/100\n",
            "22/22 [==============================] - 0s 16ms/step - loss: 2.4503 - accuracy: 0.5629 - val_loss: 2.2609 - val_accuracy: 0.6600\n",
            "Epoch 65/100\n",
            "22/22 [==============================] - 0s 16ms/step - loss: 2.4074 - accuracy: 0.5659 - val_loss: 2.2198 - val_accuracy: 0.6533\n",
            "Epoch 66/100\n",
            "22/22 [==============================] - 0s 16ms/step - loss: 2.4098 - accuracy: 0.5911 - val_loss: 2.2271 - val_accuracy: 0.6500\n",
            "Epoch 67/100\n",
            "22/22 [==============================] - 0s 17ms/step - loss: 2.3267 - accuracy: 0.6204 - val_loss: 2.2215 - val_accuracy: 0.6400\n",
            "Epoch 68/100\n",
            "22/22 [==============================] - 0s 17ms/step - loss: 2.5251 - accuracy: 0.5704 - val_loss: 2.2372 - val_accuracy: 0.6100\n",
            "Epoch 69/100\n",
            "22/22 [==============================] - 0s 17ms/step - loss: 2.4323 - accuracy: 0.5860 - val_loss: 2.2098 - val_accuracy: 0.6333\n",
            "Epoch 70/100\n",
            "22/22 [==============================] - 0s 17ms/step - loss: 2.3844 - accuracy: 0.6132 - val_loss: 2.2093 - val_accuracy: 0.6367\n",
            "Epoch 71/100\n",
            "22/22 [==============================] - 0s 16ms/step - loss: 2.3835 - accuracy: 0.6053 - val_loss: 2.1950 - val_accuracy: 0.6300\n",
            "Epoch 72/100\n",
            "22/22 [==============================] - 0s 16ms/step - loss: 2.3273 - accuracy: 0.6233 - val_loss: 2.1851 - val_accuracy: 0.6233\n",
            "Epoch 73/100\n",
            "22/22 [==============================] - 0s 17ms/step - loss: 2.3111 - accuracy: 0.6194 - val_loss: 2.1983 - val_accuracy: 0.6367\n",
            "Epoch 74/100\n",
            "22/22 [==============================] - 0s 17ms/step - loss: 2.2940 - accuracy: 0.6139 - val_loss: 2.1833 - val_accuracy: 0.6433\n",
            "Epoch 75/100\n",
            "22/22 [==============================] - 0s 17ms/step - loss: 2.3351 - accuracy: 0.6224 - val_loss: 2.1879 - val_accuracy: 0.6500\n",
            "Epoch 76/100\n",
            "22/22 [==============================] - 0s 16ms/step - loss: 2.2049 - accuracy: 0.6417 - val_loss: 2.1639 - val_accuracy: 0.6800\n",
            "Epoch 77/100\n",
            "22/22 [==============================] - 0s 17ms/step - loss: 2.1913 - accuracy: 0.6504 - val_loss: 2.1920 - val_accuracy: 0.6500\n",
            "Epoch 78/100\n",
            "22/22 [==============================] - 0s 17ms/step - loss: 2.2933 - accuracy: 0.6305 - val_loss: 2.1363 - val_accuracy: 0.6800\n",
            "Epoch 79/100\n",
            "22/22 [==============================] - 0s 16ms/step - loss: 2.2057 - accuracy: 0.6454 - val_loss: 2.1429 - val_accuracy: 0.6667\n",
            "Epoch 80/100\n",
            "22/22 [==============================] - 0s 17ms/step - loss: 2.2187 - accuracy: 0.6406 - val_loss: 2.1506 - val_accuracy: 0.6500\n",
            "Epoch 81/100\n",
            "22/22 [==============================] - 0s 18ms/step - loss: 2.1488 - accuracy: 0.6555 - val_loss: 2.1430 - val_accuracy: 0.6633\n",
            "Epoch 82/100\n",
            "22/22 [==============================] - 0s 17ms/step - loss: 2.0593 - accuracy: 0.6899 - val_loss: 2.1429 - val_accuracy: 0.6633\n",
            "Epoch 83/100\n",
            "22/22 [==============================] - 0s 17ms/step - loss: 2.0345 - accuracy: 0.7199 - val_loss: 2.1431 - val_accuracy: 0.6700\n",
            "Epoch 84/100\n",
            "22/22 [==============================] - 0s 16ms/step - loss: 2.0761 - accuracy: 0.6979 - val_loss: 2.1471 - val_accuracy: 0.6700\n",
            "Epoch 85/100\n",
            "22/22 [==============================] - 0s 16ms/step - loss: 2.0757 - accuracy: 0.6877 - val_loss: 2.1276 - val_accuracy: 0.6833\n",
            "Epoch 86/100\n",
            "22/22 [==============================] - 0s 17ms/step - loss: 2.1873 - accuracy: 0.6675 - val_loss: 2.1032 - val_accuracy: 0.6667\n",
            "Epoch 87/100\n",
            "22/22 [==============================] - 0s 17ms/step - loss: 2.1140 - accuracy: 0.6879 - val_loss: 2.0879 - val_accuracy: 0.7033\n",
            "Epoch 88/100\n",
            "22/22 [==============================] - 0s 16ms/step - loss: 2.1712 - accuracy: 0.6872 - val_loss: 2.1008 - val_accuracy: 0.6700\n",
            "Epoch 89/100\n",
            "22/22 [==============================] - 0s 17ms/step - loss: 2.1747 - accuracy: 0.6183 - val_loss: 2.1041 - val_accuracy: 0.6800\n",
            "Epoch 90/100\n",
            "22/22 [==============================] - 0s 17ms/step - loss: 2.0198 - accuracy: 0.6823 - val_loss: 2.0890 - val_accuracy: 0.6933\n",
            "Epoch 91/100\n",
            "22/22 [==============================] - 0s 17ms/step - loss: 2.1403 - accuracy: 0.6610 - val_loss: 2.1322 - val_accuracy: 0.6633\n",
            "Epoch 92/100\n",
            "22/22 [==============================] - 0s 18ms/step - loss: 2.0914 - accuracy: 0.6639 - val_loss: 2.1337 - val_accuracy: 0.6467\n",
            "Epoch 93/100\n",
            "22/22 [==============================] - 0s 16ms/step - loss: 2.0395 - accuracy: 0.6973 - val_loss: 2.1341 - val_accuracy: 0.6900\n",
            "Epoch 94/100\n",
            "22/22 [==============================] - 0s 16ms/step - loss: 1.9881 - accuracy: 0.7121 - val_loss: 2.1288 - val_accuracy: 0.6800\n",
            "Epoch 95/100\n",
            "22/22 [==============================] - 0s 17ms/step - loss: 2.0595 - accuracy: 0.7079 - val_loss: 2.1338 - val_accuracy: 0.7000\n",
            "Epoch 96/100\n",
            "22/22 [==============================] - 0s 16ms/step - loss: 2.1270 - accuracy: 0.7137 - val_loss: 2.2018 - val_accuracy: 0.6933\n",
            "Epoch 97/100\n",
            "22/22 [==============================] - 0s 17ms/step - loss: 1.9506 - accuracy: 0.7143 - val_loss: 2.1013 - val_accuracy: 0.7033\n",
            "Epoch 98/100\n",
            "22/22 [==============================] - 0s 16ms/step - loss: 1.9113 - accuracy: 0.7579 - val_loss: 2.1322 - val_accuracy: 0.6967\n",
            "Epoch 99/100\n",
            "22/22 [==============================] - 0s 16ms/step - loss: 1.9983 - accuracy: 0.7223 - val_loss: 2.1175 - val_accuracy: 0.6867\n",
            "Epoch 100/100\n",
            "22/22 [==============================] - 0s 17ms/step - loss: 1.9551 - accuracy: 0.7150 - val_loss: 2.1369 - val_accuracy: 0.6733\n"
          ],
          "name": "stdout"
        }
      ]
    },
    {
      "cell_type": "code",
      "metadata": {
        "colab": {
          "base_uri": "https://localhost:8080/",
          "height": 295
        },
        "id": "GV3sEjN3flQw",
        "outputId": "ca6b47b3-e9da-4d1f-b94f-70b9dbfde68b"
      },
      "source": [
        "# plot accuracy and error as a function of the epochs\n",
        "plot_history(history)"
      ],
      "execution_count": null,
      "outputs": [
        {
          "output_type": "display_data",
          "data": {
            "image/png": "[encoded data removed]",
            "text/plain": [
              "<Figure size 432x288 with 2 Axes>"
            ]
          },
          "metadata": {
            "tags": [],
            "needs_background": "light"
          }
        }
      ]
    },
    {
      "cell_type": "markdown",
      "metadata": {
        "id": "fS8hBgetftCa"
      },
      "source": [
        "\n",
        "\n",
        "> Indented block\n",
        "\n",
        "\n",
        "**Convolutional** **Neural** **Network**"
      ]
    },
    {
      "cell_type": "code",
      "metadata": {
        "id": "5JwqJxADfp7h"
      },
      "source": [
        "# create train, validation and test split\n",
        "X_train, X_test, y_train, y_test = train_test_split(X, y, test_size=0.25)\n",
        "X_train, X_validation, y_train, y_validation = train_test_split(X_train, y_train, test_size=0.2)\n",
        "\n",
        "# add an axis to input sets\n",
        "X_train = X_train[..., np.newaxis]\n",
        "X_validation = X_validation[..., np.newaxis]\n",
        "X_test = X_test[..., np.newaxis]"
      ],
      "execution_count": null,
      "outputs": []
    },
    {
      "cell_type": "code",
      "metadata": {
        "colab": {
          "base_uri": "https://localhost:8080/"
        },
        "id": "Gl9kW0Kqfyg8",
        "outputId": "c84575c0-b725-45a4-b491-12050ce7b211"
      },
      "source": [
        "X_train.shape"
      ],
      "execution_count": null,
      "outputs": [
        {
          "output_type": "execute_result",
          "data": {
            "text/plain": [
              "(599, 130, 13, 1)"
            ]
          },
          "metadata": {
            "tags": []
          },
          "execution_count": 55
        }
      ]
    },
    {
      "cell_type": "code",
      "metadata": {
        "id": "sn5FbDwVf2jo"
      },
      "source": [
        "input_shape = (X_train.shape[1], X_train.shape[2], 1)"
      ],
      "execution_count": null,
      "outputs": []
    },
    {
      "cell_type": "code",
      "metadata": {
        "id": "sIPp66bjf30p"
      },
      "source": [
        "# build the CNN\n",
        "model_cnn = keras.Sequential()\n",
        "\n",
        "# 1st conv layer\n",
        "model_cnn.add(keras.layers.Conv2D(32, (3, 3), activation='relu', input_shape=input_shape))\n",
        "model_cnn.add(keras.layers.MaxPooling2D((3, 3), strides=(2, 2), padding='same'))\n",
        "model_cnn.add(keras.layers.BatchNormalization())\n",
        "\n",
        "# 2nd conv layer\n",
        "model_cnn.add(keras.layers.Conv2D(32, (3, 3), activation='relu'))\n",
        "model_cnn.add(keras.layers.MaxPooling2D((3, 3), strides=(2, 2), padding='same'))\n",
        "model_cnn.add(keras.layers.BatchNormalization())\n",
        "\n",
        "# 3rd conv layer\n",
        "model_cnn.add(keras.layers.Conv2D(32, (2, 2), activation='relu'))\n",
        "model_cnn.add(keras.layers.MaxPooling2D((2, 2), strides=(2, 2), padding='same'))\n",
        "model_cnn.add(keras.layers.BatchNormalization())\n",
        "\n",
        "# flatten output and feed it into dense layer\n",
        "model_cnn.add(keras.layers.Flatten())\n",
        "model_cnn.add(keras.layers.Dense(64, activation='relu'))\n",
        "model_cnn.add(keras.layers.Dropout(0.3))\n",
        "\n",
        "# output layer\n",
        "model_cnn.add(keras.layers.Dense(10, activation='softmax'))"
      ],
      "execution_count": null,
      "outputs": []
    },
    {
      "cell_type": "code",
      "metadata": {
        "id": "9SHH4dDkf9RO"
      },
      "source": [
        "# compile model\n",
        "optimiser = keras.optimizers.Adam(learning_rate=0.0001)\n",
        "model_cnn.compile(optimizer=optimiser,\n",
        "              loss='sparse_categorical_crossentropy',\n",
        "              metrics=['accuracy'])"
      ],
      "execution_count": null,
      "outputs": []
    },
    {
      "cell_type": "code",
      "metadata": {
        "colab": {
          "base_uri": "https://localhost:8080/"
        },
        "id": "WCkThCkWgAhS",
        "outputId": "cdbfb76a-9cf9-4a03-8541-07dd23ca404d"
      },
      "source": [
        "model_cnn.summary()"
      ],
      "execution_count": null,
      "outputs": [
        {
          "output_type": "stream",
          "text": [
            "Model: \"sequential_5\"\n",
            "_________________________________________________________________\n",
            "Layer (type)                 Output Shape              Param #   \n",
            "=================================================================\n",
            "conv2d (Conv2D)              (None, 128, 11, 32)       320       \n",
            "_________________________________________________________________\n",
            "max_pooling2d (MaxPooling2D) (None, 64, 6, 32)         0         \n",
            "_________________________________________________________________\n",
            "batch_normalization (BatchNo (None, 64, 6, 32)         128       \n",
            "_________________________________________________________________\n",
            "conv2d_1 (Conv2D)            (None, 62, 4, 32)         9248      \n",
            "_________________________________________________________________\n",
            "max_pooling2d_1 (MaxPooling2 (None, 31, 2, 32)         0         \n",
            "_________________________________________________________________\n",
            "batch_normalization_1 (Batch (None, 31, 2, 32)         128       \n",
            "_________________________________________________________________\n",
            "conv2d_2 (Conv2D)            (None, 30, 1, 32)         4128      \n",
            "_________________________________________________________________\n",
            "max_pooling2d_2 (MaxPooling2 (None, 15, 1, 32)         0         \n",
            "_________________________________________________________________\n",
            "batch_normalization_2 (Batch (None, 15, 1, 32)         128       \n",
            "_________________________________________________________________\n",
            "flatten_5 (Flatten)          (None, 480)               0         \n",
            "_________________________________________________________________\n",
            "dense_20 (Dense)             (None, 64)                30784     \n",
            "_________________________________________________________________\n",
            "dropout_9 (Dropout)          (None, 64)                0         \n",
            "_________________________________________________________________\n",
            "dense_21 (Dense)             (None, 10)                650       \n",
            "=================================================================\n",
            "Total params: 45,514\n",
            "Trainable params: 45,322\n",
            "Non-trainable params: 192\n",
            "_________________________________________________________________\n"
          ],
          "name": "stdout"
        }
      ]
    },
    {
      "cell_type": "code",
      "metadata": {
        "colab": {
          "base_uri": "https://localhost:8080/"
        },
        "id": "WGMd0dfFgH1m",
        "outputId": "ae51699a-88b9-48ac-e0e6-361c2fc845b5"
      },
      "source": [
        "# train model\n",
        "history = model_cnn.fit(X_train, y_train, validation_data=(X_validation, y_validation), batch_size=32, epochs=50)"
      ],
      "execution_count": null,
      "outputs": [
        {
          "output_type": "stream",
          "text": [
            "Epoch 1/50\n",
            "19/19 [==============================] - 2s 72ms/step - loss: 3.0798 - accuracy: 0.1441 - val_loss: 3.0291 - val_accuracy: 0.1733\n",
            "Epoch 2/50\n",
            "19/19 [==============================] - 1s 59ms/step - loss: 2.7089 - accuracy: 0.1957 - val_loss: 2.3480 - val_accuracy: 0.2267\n",
            "Epoch 3/50\n",
            "19/19 [==============================] - 1s 59ms/step - loss: 2.3291 - accuracy: 0.2687 - val_loss: 2.1139 - val_accuracy: 0.2667\n",
            "Epoch 4/50\n",
            "19/19 [==============================] - 1s 59ms/step - loss: 2.1442 - accuracy: 0.3216 - val_loss: 1.9458 - val_accuracy: 0.3000\n",
            "Epoch 5/50\n",
            "19/19 [==============================] - 1s 59ms/step - loss: 1.7712 - accuracy: 0.3722 - val_loss: 1.8080 - val_accuracy: 0.3267\n",
            "Epoch 6/50\n",
            "19/19 [==============================] - 1s 59ms/step - loss: 1.6887 - accuracy: 0.4314 - val_loss: 1.6413 - val_accuracy: 0.4267\n",
            "Epoch 7/50\n",
            "19/19 [==============================] - 1s 58ms/step - loss: 1.6312 - accuracy: 0.4620 - val_loss: 1.4967 - val_accuracy: 0.5333\n",
            "Epoch 8/50\n",
            "19/19 [==============================] - 1s 58ms/step - loss: 1.3512 - accuracy: 0.5265 - val_loss: 1.3608 - val_accuracy: 0.5733\n",
            "Epoch 9/50\n",
            "19/19 [==============================] - 1s 59ms/step - loss: 1.3722 - accuracy: 0.4952 - val_loss: 1.2588 - val_accuracy: 0.6267\n",
            "Epoch 10/50\n",
            "19/19 [==============================] - 1s 59ms/step - loss: 1.3078 - accuracy: 0.5480 - val_loss: 1.1755 - val_accuracy: 0.6667\n",
            "Epoch 11/50\n",
            "19/19 [==============================] - 1s 59ms/step - loss: 1.1976 - accuracy: 0.5740 - val_loss: 1.1177 - val_accuracy: 0.6467\n",
            "Epoch 12/50\n",
            "19/19 [==============================] - 1s 58ms/step - loss: 1.1921 - accuracy: 0.5716 - val_loss: 1.0583 - val_accuracy: 0.6400\n",
            "Epoch 13/50\n",
            "19/19 [==============================] - 1s 59ms/step - loss: 1.0208 - accuracy: 0.6590 - val_loss: 1.0054 - val_accuracy: 0.6600\n",
            "Epoch 14/50\n",
            "19/19 [==============================] - 1s 59ms/step - loss: 1.0557 - accuracy: 0.6314 - val_loss: 0.9649 - val_accuracy: 0.6667\n",
            "Epoch 15/50\n",
            "19/19 [==============================] - 1s 59ms/step - loss: 1.0263 - accuracy: 0.6460 - val_loss: 0.9246 - val_accuracy: 0.6733\n",
            "Epoch 16/50\n",
            "19/19 [==============================] - 1s 58ms/step - loss: 0.9208 - accuracy: 0.6722 - val_loss: 0.8926 - val_accuracy: 0.6933\n",
            "Epoch 17/50\n",
            "19/19 [==============================] - 1s 59ms/step - loss: 0.9732 - accuracy: 0.6743 - val_loss: 0.8608 - val_accuracy: 0.6867\n",
            "Epoch 18/50\n",
            "19/19 [==============================] - 1s 59ms/step - loss: 0.8640 - accuracy: 0.6901 - val_loss: 0.8506 - val_accuracy: 0.7000\n",
            "Epoch 19/50\n",
            "19/19 [==============================] - 1s 58ms/step - loss: 0.8557 - accuracy: 0.7001 - val_loss: 0.8285 - val_accuracy: 0.7067\n",
            "Epoch 20/50\n",
            "19/19 [==============================] - 1s 61ms/step - loss: 0.8349 - accuracy: 0.7112 - val_loss: 0.8129 - val_accuracy: 0.6933\n",
            "Epoch 21/50\n",
            "19/19 [==============================] - 1s 59ms/step - loss: 0.7743 - accuracy: 0.7258 - val_loss: 0.7989 - val_accuracy: 0.7067\n",
            "Epoch 22/50\n",
            "19/19 [==============================] - 1s 59ms/step - loss: 0.7304 - accuracy: 0.7470 - val_loss: 0.7799 - val_accuracy: 0.7200\n",
            "Epoch 23/50\n",
            "19/19 [==============================] - 1s 60ms/step - loss: 0.7677 - accuracy: 0.7667 - val_loss: 0.7693 - val_accuracy: 0.7200\n",
            "Epoch 24/50\n",
            "19/19 [==============================] - 1s 60ms/step - loss: 0.7159 - accuracy: 0.7545 - val_loss: 0.7700 - val_accuracy: 0.7267\n",
            "Epoch 25/50\n",
            "19/19 [==============================] - 1s 59ms/step - loss: 0.6921 - accuracy: 0.7648 - val_loss: 0.7580 - val_accuracy: 0.6933\n",
            "Epoch 26/50\n",
            "19/19 [==============================] - 1s 59ms/step - loss: 0.5972 - accuracy: 0.8004 - val_loss: 0.7330 - val_accuracy: 0.7133\n",
            "Epoch 27/50\n",
            "19/19 [==============================] - 1s 59ms/step - loss: 0.6580 - accuracy: 0.7692 - val_loss: 0.7210 - val_accuracy: 0.7267\n",
            "Epoch 28/50\n",
            "19/19 [==============================] - 1s 59ms/step - loss: 0.5860 - accuracy: 0.8358 - val_loss: 0.7077 - val_accuracy: 0.7400\n",
            "Epoch 29/50\n",
            "19/19 [==============================] - 1s 60ms/step - loss: 0.5495 - accuracy: 0.8407 - val_loss: 0.6967 - val_accuracy: 0.7467\n",
            "Epoch 30/50\n",
            "19/19 [==============================] - 1s 59ms/step - loss: 0.5700 - accuracy: 0.8113 - val_loss: 0.6830 - val_accuracy: 0.7400\n",
            "Epoch 31/50\n",
            "19/19 [==============================] - 1s 59ms/step - loss: 0.5161 - accuracy: 0.8381 - val_loss: 0.6756 - val_accuracy: 0.7267\n",
            "Epoch 32/50\n",
            "19/19 [==============================] - 1s 59ms/step - loss: 0.5308 - accuracy: 0.8423 - val_loss: 0.6740 - val_accuracy: 0.7467\n",
            "Epoch 33/50\n",
            "19/19 [==============================] - 1s 58ms/step - loss: 0.5478 - accuracy: 0.8183 - val_loss: 0.6626 - val_accuracy: 0.7400\n",
            "Epoch 34/50\n",
            "19/19 [==============================] - 1s 59ms/step - loss: 0.4934 - accuracy: 0.8451 - val_loss: 0.6541 - val_accuracy: 0.7333\n",
            "Epoch 35/50\n",
            "19/19 [==============================] - 1s 60ms/step - loss: 0.4940 - accuracy: 0.8410 - val_loss: 0.6540 - val_accuracy: 0.7333\n",
            "Epoch 36/50\n",
            "19/19 [==============================] - 1s 60ms/step - loss: 0.4502 - accuracy: 0.8406 - val_loss: 0.6489 - val_accuracy: 0.7267\n",
            "Epoch 37/50\n",
            "19/19 [==============================] - 1s 59ms/step - loss: 0.4299 - accuracy: 0.8679 - val_loss: 0.6430 - val_accuracy: 0.7333\n",
            "Epoch 38/50\n",
            "19/19 [==============================] - 1s 60ms/step - loss: 0.4695 - accuracy: 0.8544 - val_loss: 0.6345 - val_accuracy: 0.7400\n",
            "Epoch 39/50\n",
            "19/19 [==============================] - 1s 60ms/step - loss: 0.4035 - accuracy: 0.8862 - val_loss: 0.6198 - val_accuracy: 0.7600\n",
            "Epoch 40/50\n",
            "19/19 [==============================] - 1s 59ms/step - loss: 0.3849 - accuracy: 0.8897 - val_loss: 0.6108 - val_accuracy: 0.7467\n",
            "Epoch 41/50\n",
            "19/19 [==============================] - 1s 59ms/step - loss: 0.4196 - accuracy: 0.8611 - val_loss: 0.6091 - val_accuracy: 0.7600\n",
            "Epoch 42/50\n",
            "19/19 [==============================] - 1s 59ms/step - loss: 0.4041 - accuracy: 0.9057 - val_loss: 0.6111 - val_accuracy: 0.7667\n",
            "Epoch 43/50\n",
            "19/19 [==============================] - 1s 60ms/step - loss: 0.3082 - accuracy: 0.9313 - val_loss: 0.6045 - val_accuracy: 0.7733\n",
            "Epoch 44/50\n",
            "19/19 [==============================] - 1s 59ms/step - loss: 0.3435 - accuracy: 0.9149 - val_loss: 0.5967 - val_accuracy: 0.7600\n",
            "Epoch 45/50\n",
            "19/19 [==============================] - 1s 59ms/step - loss: 0.3429 - accuracy: 0.9097 - val_loss: 0.5837 - val_accuracy: 0.7533\n",
            "Epoch 46/50\n",
            "19/19 [==============================] - 1s 61ms/step - loss: 0.3253 - accuracy: 0.9091 - val_loss: 0.5765 - val_accuracy: 0.7600\n",
            "Epoch 47/50\n",
            "19/19 [==============================] - 1s 61ms/step - loss: 0.3398 - accuracy: 0.9036 - val_loss: 0.5638 - val_accuracy: 0.7733\n",
            "Epoch 48/50\n",
            "19/19 [==============================] - 1s 61ms/step - loss: 0.3026 - accuracy: 0.9376 - val_loss: 0.5723 - val_accuracy: 0.7667\n",
            "Epoch 49/50\n",
            "19/19 [==============================] - 1s 59ms/step - loss: 0.3182 - accuracy: 0.9028 - val_loss: 0.5715 - val_accuracy: 0.7667\n",
            "Epoch 50/50\n",
            "19/19 [==============================] - 1s 59ms/step - loss: 0.3134 - accuracy: 0.8973 - val_loss: 0.5607 - val_accuracy: 0.7467\n"
          ],
          "name": "stdout"
        }
      ]
    },
    {
      "cell_type": "code",
      "metadata": {
        "colab": {
          "base_uri": "https://localhost:8080/",
          "height": 295
        },
        "id": "LfgjNOyTgMg1",
        "outputId": "cc711644-07d1-4192-d896-ec80d03cd620"
      },
      "source": [
        "# plot accuracy and error as a function of the epochs\n",
        "plot_history(history)"
      ],
      "execution_count": null,
      "outputs": [
        {
          "output_type": "display_data",
          "data": {
            "image/png": "[encoded data removed]",
            "text/plain": [
              "<Figure size 432x288 with 2 Axes>"
            ]
          },
          "metadata": {
            "tags": [],
            "needs_background": "light"
          }
        }
      ]
    },
    {
      "cell_type": "code",
      "metadata": {
        "colab": {
          "base_uri": "https://localhost:8080/"
        },
        "id": "iePkuY3jgNSV",
        "outputId": "48b51fc1-b0a9-4697-9c08-f0e7ee993e3a"
      },
      "source": [
        "# evaluate model on Test Set\n",
        "test_loss, test_acc = model_cnn.evaluate(X_test, y_test, verbose=2)\n",
        "print('\\nTest accuracy:', test_acc)"
      ],
      "execution_count": null,
      "outputs": [
        {
          "output_type": "stream",
          "text": [
            "8/8 - 0s - loss: 0.7059 - accuracy: 0.7560\n",
            "\n",
            "Test accuracy: 0.7559999823570251\n"
          ],
          "name": "stdout"
        }
      ]
    },
    {
      "cell_type": "code",
      "metadata": {
        "colab": {
          "base_uri": "https://localhost:8080/"
        },
        "id": "kZoya9btgQq-",
        "outputId": "b258b70c-15d9-44b1-81c0-60d5d0501f90"
      },
      "source": [
        "model_cnn.save(\"Music_Genre_10_CNN\")"
      ],
      "execution_count": null,
      "outputs": [
        {
          "output_type": "stream",
          "text": [
            "INFO:tensorflow:Assets written to: Music_Genre_10_CNN/assets\n"
          ],
          "name": "stdout"
        }
      ]
    },
    {
      "cell_type": "code",
      "metadata": {
        "id": "o327csVYhh8J"
      },
      "source": [
        "model_cnn.save(\"Music_Genre_10_CNN.h5\")"
      ],
      "execution_count": null,
      "outputs": []
    },
    {
      "cell_type": "code",
      "metadata": {
        "id": "g-rLcvEGhkn6"
      },
      "source": [
        "# It can be used to reconstruct the model identically.\n",
        "reconstructed_model = keras.models.load_model(\"Music_Genre_10_CNN.h5\")"
      ],
      "execution_count": null,
      "outputs": []
    },
    {
      "cell_type": "markdown",
      "metadata": {
        "id": "nw1a80MNhoP9"
      },
      "source": [
        "**Prediction** **on** **Test** **Set**"
      ]
    },
    {
      "cell_type": "code",
      "metadata": {
        "id": "stBL8BkOhld3"
      },
      "source": [
        "# pick a sample to predict from the test set\n",
        "X_to_predict = X_test[100]\n",
        "y_to_predict = y_test[100]"
      ],
      "execution_count": null,
      "outputs": []
    },
    {
      "cell_type": "code",
      "metadata": {
        "colab": {
          "base_uri": "https://localhost:8080/"
        },
        "id": "I1Bz5pIKh0UG",
        "outputId": "8f728e0b-c868-4f5e-fa90-4602de514fef"
      },
      "source": [
        "X_to_predict.shape"
      ],
      "execution_count": null,
      "outputs": [
        {
          "output_type": "execute_result",
          "data": {
            "text/plain": [
              "(130, 13, 1)"
            ]
          },
          "metadata": {
            "tags": []
          },
          "execution_count": 67
        }
      ]
    },
    {
      "cell_type": "code",
      "metadata": {
        "colab": {
          "base_uri": "https://localhost:8080/"
        },
        "id": "Aq_CsL3Kh26i",
        "outputId": "6b945bf1-a8df-4181-89f8-24b8f000d15e"
      },
      "source": [
        "print(\"Real Genre:\", y_to_predict)"
      ],
      "execution_count": null,
      "outputs": [
        {
          "output_type": "stream",
          "text": [
            "Real Genre: 8\n"
          ],
          "name": "stdout"
        }
      ]
    },
    {
      "cell_type": "code",
      "metadata": {
        "id": "1p8KyMz_h4qw"
      },
      "source": [
        "# add a dimension to input data for sample - model.predict() expects a 4d array in this case\n",
        "X_to_predict = X_to_predict[np.newaxis, ...] # array shape (1, 130, 13, 1)"
      ],
      "execution_count": null,
      "outputs": []
    },
    {
      "cell_type": "code",
      "metadata": {
        "colab": {
          "base_uri": "https://localhost:8080/"
        },
        "id": "cqE21fDth7v4",
        "outputId": "ea2cf481-0e6c-44ed-c600-8fa7904edfee"
      },
      "source": [
        "X_to_predict.shape"
      ],
      "execution_count": null,
      "outputs": [
        {
          "output_type": "execute_result",
          "data": {
            "text/plain": [
              "(1, 130, 13, 1)"
            ]
          },
          "metadata": {
            "tags": []
          },
          "execution_count": 70
        }
      ]
    },
    {
      "cell_type": "code",
      "metadata": {
        "id": "1bZJNaMEh_IS"
      },
      "source": [
        "# perform prediction\n",
        "prediction = model_cnn.predict(X_to_predict)"
      ],
      "execution_count": null,
      "outputs": []
    },
    {
      "cell_type": "code",
      "metadata": {
        "colab": {
          "base_uri": "https://localhost:8080/"
        },
        "id": "6ijA9v7fiCQL",
        "outputId": "094aa041-ad41-47a7-afb1-e9a1e5643efa"
      },
      "source": [
        "# get index with max value\n",
        "predicted_index = np.argmax(prediction, axis=1)\n",
        "\n",
        "print(\"Predicted Genre:\", int(predicted_index))"
      ],
      "execution_count": null,
      "outputs": [
        {
          "output_type": "stream",
          "text": [
            "Predicted Genre: 8\n"
          ],
          "name": "stdout"
        }
      ]
    },
    {
      "cell_type": "code",
      "metadata": {
        "colab": {
          "base_uri": "https://localhost:8080/"
        },
        "id": "CzhDYoR3iGjk",
        "outputId": "0309621d-27c3-42a8-a859-0514b0ce490c"
      },
      "source": [
        "\n",
        "# pick a sample to predict from the test set\n",
        "X_to_predict = X_test[50]\n",
        "y_to_predict = y_test[50]\n",
        "\n",
        "print(\"Real Genre:\", y_to_predict)\n",
        "\n",
        "X_to_predict = X_to_predict[np.newaxis, ...]\n",
        "\n",
        "prediction = model_cnn.predict(X_to_predict)\n",
        "\n",
        "# get index with max value\n",
        "predicted_index = np.argmax(prediction, axis=1)\n",
        "\n",
        "print(\"Predicted Genre:\", int(predicted_index))"
      ],
      "execution_count": null,
      "outputs": [
        {
          "output_type": "stream",
          "text": [
            "Real Genre: 7\n",
            "Predicted Genre: 2\n"
          ],
          "name": "stdout"
        }
      ]
    },
    {
      "cell_type": "code",
      "metadata": {
        "colab": {
          "base_uri": "https://localhost:8080/"
        },
        "id": "RYiNhufuiKic",
        "outputId": "a0bc4fbb-42d1-4982-9b5f-10f3f3d1d0d0"
      },
      "source": [
        "len(X_test)\n"
      ],
      "execution_count": null,
      "outputs": [
        {
          "output_type": "execute_result",
          "data": {
            "text/plain": [
              "250"
            ]
          },
          "metadata": {
            "tags": []
          },
          "execution_count": 74
        }
      ]
    },
    {
      "cell_type": "code",
      "metadata": {
        "colab": {
          "base_uri": "https://localhost:8080/"
        },
        "id": "OhA9YcvxiNvr",
        "outputId": "417b0757-2a69-4910-b323-07ff0965cc26"
      },
      "source": [
        "for n in range(10):\n",
        "\n",
        "  i = random.randint(0,len(X_test))\n",
        "  # pick a sample to predict from the test set\n",
        "  X_to_predict = X_test[i]\n",
        "  y_to_predict = y_test[i]\n",
        "\n",
        "  print(\"\\nReal Genre:\", y_to_predict)\n",
        "\n",
        "  X_to_predict = X_to_predict[np.newaxis, ...]\n",
        "\n",
        "  prediction = model_cnn.predict(X_to_predict)\n",
        "\n",
        "  # get index with max value\n",
        "  predicted_index = np.argmax(prediction, axis=1)\n",
        "\n",
        "  print(\"Predicted Genre:\", int(predicted_index))"
      ],
      "execution_count": null,
      "outputs": [
        {
          "output_type": "stream",
          "text": [
            "\n",
            "Real Genre: 3\n",
            "Predicted Genre: 3\n",
            "\n",
            "Real Genre: 5\n",
            "Predicted Genre: 5\n",
            "\n",
            "Real Genre: 9\n",
            "Predicted Genre: 9\n",
            "\n",
            "Real Genre: 0\n",
            "Predicted Genre: 0\n",
            "\n",
            "Real Genre: 4\n",
            "Predicted Genre: 4\n",
            "\n",
            "Real Genre: 3\n",
            "Predicted Genre: 3\n",
            "\n",
            "Real Genre: 0\n",
            "Predicted Genre: 5\n",
            "\n",
            "Real Genre: 8\n",
            "Predicted Genre: 8\n",
            "\n",
            "Real Genre: 9\n",
            "Predicted Genre: 9\n",
            "\n",
            "Real Genre: 3\n",
            "Predicted Genre: 3\n"
          ],
          "name": "stdout"
        }
      ]
    },
    {
      "cell_type": "markdown",
      "metadata": {
        "id": "qoV-89TWiWEu"
      },
      "source": [
        "Prediction on New Songs"
      ]
    },
    {
      "cell_type": "code",
      "metadata": {
        "id": "zjGUs5a0iSP8"
      },
      "source": [
        "# Audio files pre-processing\n",
        "def process_input(audio_file, track_duration):\n",
        "\n",
        "  SAMPLE_RATE = 22050\n",
        "  NUM_MFCC = 13\n",
        "  N_FTT=2048\n",
        "  HOP_LENGTH=512\n",
        "  TRACK_DURATION = track_duration # measured in seconds\n",
        "  SAMPLES_PER_TRACK = SAMPLE_RATE * TRACK_DURATION\n",
        "  NUM_SEGMENTS = 10\n",
        "\n",
        "  samples_per_segment = int(SAMPLES_PER_TRACK / NUM_SEGMENTS)\n",
        "  num_mfcc_vectors_per_segment = math.ceil(samples_per_segment / HOP_LENGTH)\n",
        "\n",
        "  signal, sample_rate = librosa.load(audio_file, sr=SAMPLE_RATE)\n",
        "  \n",
        "  for d in range(10):\n",
        "\n",
        "    # calculate start and finish sample for current segment\n",
        "    start = samples_per_segment * d\n",
        "    finish = start + samples_per_segment\n",
        "\n",
        "    # extract mfcc\n",
        "    mfcc = librosa.feature.mfcc(signal[start:finish], sample_rate, n_mfcc=NUM_MFCC, n_fft=N_FTT, hop_length=HOP_LENGTH)\n",
        "    mfcc = mfcc.T\n",
        "\n",
        "    return mfcc"
      ],
      "execution_count": null,
      "outputs": []
    },
    {
      "cell_type": "code",
      "metadata": {
        "id": "SNd7JAP5idyf"
      },
      "source": [
        "genre_dict = {0:\"hiphop\",1:\"country\",2:\"jazz\",3:\"classical\",4:\"metal\",5:\"pop\",6:\"rock\",7:\"blues\",8:\"reggae\",9:\"disco\"}"
      ],
      "execution_count": null,
      "outputs": []
    },
    {
      "cell_type": "code",
      "metadata": {
        "id": "T14-18yJie2r"
      },
      "source": [
        "new_input_mfcc = process_input(\"/content/drive/MyDrive/dataset/Data/genres_original/pop/blues.00001.wav\", 30)"
      ],
      "execution_count": null,
      "outputs": []
    },
    {
      "cell_type": "code",
      "metadata": {
        "colab": {
          "base_uri": "https://localhost:8080/"
        },
        "id": "MHQmYF-ciiAG",
        "outputId": "1360d4a3-2849-4552-8ed7-3111e8d741fe"
      },
      "source": [
        "type(new_input_mfcc)"
      ],
      "execution_count": null,
      "outputs": [
        {
          "output_type": "execute_result",
          "data": {
            "text/plain": [
              "numpy.ndarray"
            ]
          },
          "metadata": {
            "tags": []
          },
          "execution_count": 79
        }
      ]
    },
    {
      "cell_type": "code",
      "metadata": {
        "colab": {
          "base_uri": "https://localhost:8080/"
        },
        "id": "CsrVlUZHis8X",
        "outputId": "8fdb3d78-c52e-4b37-dac6-0b606bed48c2"
      },
      "source": [
        "new_input_mfcc.shape"
      ],
      "execution_count": null,
      "outputs": [
        {
          "output_type": "execute_result",
          "data": {
            "text/plain": [
              "(130, 13)"
            ]
          },
          "metadata": {
            "tags": []
          },
          "execution_count": 80
        }
      ]
    },
    {
      "cell_type": "code",
      "metadata": {
        "colab": {
          "base_uri": "https://localhost:8080/"
        },
        "id": "3Um2Bm9kivnx",
        "outputId": "42491328-f4e6-4a54-9833-10d075aecb0d"
      },
      "source": [
        "X_to_predict = new_input_mfcc[np.newaxis, ..., np.newaxis]\n",
        "X_to_predict.shape"
      ],
      "execution_count": null,
      "outputs": [
        {
          "output_type": "execute_result",
          "data": {
            "text/plain": [
              "(1, 130, 13, 1)"
            ]
          },
          "metadata": {
            "tags": []
          },
          "execution_count": 81
        }
      ]
    },
    {
      "cell_type": "code",
      "metadata": {
        "colab": {
          "base_uri": "https://localhost:8080/"
        },
        "id": "bYj9BUNCiwkt",
        "outputId": "496374a6-ca2d-4ce3-cb5a-5c3872b082b8"
      },
      "source": [
        "prediction = model_cnn.predict(X_to_predict)\n",
        "\n",
        "# get index with max value\n",
        "predicted_index = np.argmax(prediction, axis=1)\n",
        "\n",
        "print(\"Predicted Genre:\", genre_dict[int(predicted_index)])"
      ],
      "execution_count": null,
      "outputs": [
        {
          "output_type": "stream",
          "text": [
            "Predicted Genre: blues\n"
          ],
          "name": "stdout"
        }
      ]
    },
    {
      "cell_type": "code",
      "metadata": {
        "id": "5oaS0S5Ai0M-"
      },
      "source": [
        "new_input_mfcc = process_input(\"/content/drive/MyDrive/dataset/Data/genres_original/metal/metal.00004.wav\", 30)"
      ],
      "execution_count": null,
      "outputs": []
    },
    {
      "cell_type": "code",
      "metadata": {
        "colab": {
          "base_uri": "https://localhost:8080/"
        },
        "id": "jnA0vr_ai8mv",
        "outputId": "f346b3a0-3ffa-48d1-9fc8-d24dd9af8184"
      },
      "source": [
        "X_to_predict = new_input_mfcc[np.newaxis, ..., np.newaxis]\n",
        "X_to_predict.shape"
      ],
      "execution_count": null,
      "outputs": [
        {
          "output_type": "execute_result",
          "data": {
            "text/plain": [
              "(1, 130, 13, 1)"
            ]
          },
          "metadata": {
            "tags": []
          },
          "execution_count": 85
        }
      ]
    },
    {
      "cell_type": "code",
      "metadata": {
        "colab": {
          "base_uri": "https://localhost:8080/"
        },
        "id": "-1TwIyJ2jSeR",
        "outputId": "af239dff-587f-47ee-8722-f2fb9a78fcd6"
      },
      "source": [
        "prediction = model_cnn.predict(X_to_predict)\n",
        "\n",
        "# get index with max value\n",
        "predicted_index = np.argmax(prediction, axis=1)\n",
        "\n",
        "print(\"Predicted Genre:\", genre_dict[int(predicted_index)])"
      ],
      "execution_count": null,
      "outputs": [
        {
          "output_type": "stream",
          "text": [
            "Predicted Genre: rock\n"
          ],
          "name": "stdout"
        }
      ]
    }
  ]
}